{
 "cells": [
  {
   "cell_type": "markdown",
   "metadata": {
    "id": "5eeje4O8fviH"
   },
   "source": [
    "# 24784 - Trustworthy AI Autonomy (Homework 2)\n",
    "\n",
    "## Instructions\n",
    "In this homework you are going to experiment with two model-based reinforcement learning (MBRL) algorithms. You will first code the missing part in models using [PyTorch](https://pytorch.org/tutorials/beginner/deep_learning_60min_blitz.html) and [GPyTorch](https://docs.gpytorch.ai/en/stable/).\n",
    "You will then implement your algorithms to control a vehicle in an parking in [highway-env](https://github.com/eleurent/highway-env). This homework is modefied based on the colab [template](https://colab.research.google.com/github/eleurent/highway-env/blob/master/scripts/parking_model_based.ipynb#scrollTo=NwCDLD1wfvi2) from Edouard Leurent.\n",
    "\n",
    "The main experiments uses **parking-v0** environment. The goal is to park a vehicle to a given goal location with the appropriate heading by controlling the gas pedal and steering angle.\n"
   ]
  },
  {
   "cell_type": "markdown",
   "metadata": {
    "id": "9ae3khagJLQj"
   },
   "source": [
    "# update 02/11\n",
    "\n",
    "Hi class, we updated the template a bit to adapt to gym 0.26.2. "
   ]
  },
  {
   "cell_type": "markdown",
   "metadata": {
    "id": "S06jxQW11jjX"
   },
   "source": [
    "## 0. Install and import packages\n",
    "\n"
   ]
  },
  {
   "cell_type": "code",
   "execution_count": 1,
   "metadata": {
    "colab": {
     "base_uri": "https://localhost:8080/"
    },
    "id": "6I-F0X0LuwlB",
    "outputId": "89af1873-62b5-45d3-8f1d-3ec3fd116419"
   },
   "outputs": [
    {
     "name": "stdout",
     "output_type": "stream",
     "text": [
      "Looking in indexes: https://pypi.org/simple, https://us-python.pkg.dev/colab-wheels/public/simple/\n",
      "Collecting highway-env\n",
      "  Cloning https://github.com/eleurent/highway-env to /tmp/pip-install-6aa5xc7a/highway-env_b0af0d566de14aa7bcb529d9ac0f7673\n",
      "  Running command git clone --filter=blob:none --quiet https://github.com/eleurent/highway-env /tmp/pip-install-6aa5xc7a/highway-env_b0af0d566de14aa7bcb529d9ac0f7673\n",
      "  Resolved https://github.com/eleurent/highway-env to commit abcef8da79dedf0dfdbe2db5b176d6f203366489\n",
      "  Installing build dependencies ... \u001b[?25l\u001b[?25hdone\n",
      "  Getting requirements to build wheel ... \u001b[?25l\u001b[?25hdone\n",
      "  Installing backend dependencies ... \u001b[?25l\u001b[?25hdone\n",
      "  Preparing metadata (pyproject.toml) ... \u001b[?25l\u001b[?25hdone\n",
      "Requirement already satisfied: numpy in /usr/local/lib/python3.8/dist-packages (from highway-env) (1.22.4)\n",
      "Requirement already satisfied: matplotlib in /usr/local/lib/python3.8/dist-packages (from highway-env) (3.5.3)\n",
      "Requirement already satisfied: pygame>=2.0.2 in /usr/local/lib/python3.8/dist-packages (from highway-env) (2.2.0)\n",
      "Requirement already satisfied: pandas in /usr/local/lib/python3.8/dist-packages (from highway-env) (1.3.5)\n",
      "Requirement already satisfied: gymnasium>=0.27 in /usr/local/lib/python3.8/dist-packages (from highway-env) (0.27.1)\n",
      "Requirement already satisfied: scipy in /usr/local/lib/python3.8/dist-packages (from highway-env) (1.10.1)\n",
      "Requirement already satisfied: importlib-metadata>=4.8.0 in /usr/local/lib/python3.8/dist-packages (from gymnasium>=0.27->highway-env) (6.0.0)\n",
      "Requirement already satisfied: typing-extensions>=4.3.0 in /usr/local/lib/python3.8/dist-packages (from gymnasium>=0.27->highway-env) (4.5.0)\n",
      "Requirement already satisfied: jax-jumpy>=0.2.0 in /usr/local/lib/python3.8/dist-packages (from gymnasium>=0.27->highway-env) (0.2.0)\n",
      "Requirement already satisfied: gymnasium-notices>=0.0.1 in /usr/local/lib/python3.8/dist-packages (from gymnasium>=0.27->highway-env) (0.0.1)\n",
      "Requirement already satisfied: cloudpickle>=1.2.0 in /usr/local/lib/python3.8/dist-packages (from gymnasium>=0.27->highway-env) (2.2.1)\n",
      "Requirement already satisfied: kiwisolver>=1.0.1 in /usr/local/lib/python3.8/dist-packages (from matplotlib->highway-env) (1.4.4)\n",
      "Requirement already satisfied: packaging>=20.0 in /usr/local/lib/python3.8/dist-packages (from matplotlib->highway-env) (23.0)\n",
      "Requirement already satisfied: python-dateutil>=2.7 in /usr/local/lib/python3.8/dist-packages (from matplotlib->highway-env) (2.8.2)\n",
      "Requirement already satisfied: cycler>=0.10 in /usr/local/lib/python3.8/dist-packages (from matplotlib->highway-env) (0.11.0)\n",
      "Requirement already satisfied: fonttools>=4.22.0 in /usr/local/lib/python3.8/dist-packages (from matplotlib->highway-env) (4.38.0)\n",
      "Requirement already satisfied: pillow>=6.2.0 in /usr/local/lib/python3.8/dist-packages (from matplotlib->highway-env) (8.4.0)\n",
      "Requirement already satisfied: pyparsing>=2.2.1 in /usr/local/lib/python3.8/dist-packages (from matplotlib->highway-env) (3.0.9)\n",
      "Requirement already satisfied: pytz>=2017.3 in /usr/local/lib/python3.8/dist-packages (from pandas->highway-env) (2022.7.1)\n",
      "Requirement already satisfied: zipp>=0.5 in /usr/local/lib/python3.8/dist-packages (from importlib-metadata>=4.8.0->gymnasium>=0.27->highway-env) (3.15.0)\n",
      "Requirement already satisfied: six>=1.5 in /usr/local/lib/python3.8/dist-packages (from python-dateutil>=2.7->matplotlib->highway-env) (1.15.0)\n",
      "Looking in indexes: https://pypi.org/simple, https://us-python.pkg.dev/colab-wheels/public/simple/\n",
      "Requirement already satisfied: gym in /usr/local/lib/python3.8/dist-packages (0.25.2)\n",
      "Requirement already satisfied: pyvirtualdisplay in /usr/local/lib/python3.8/dist-packages (3.0)\n",
      "Requirement already satisfied: cloudpickle>=1.2.0 in /usr/local/lib/python3.8/dist-packages (from gym) (2.2.1)\n",
      "Requirement already satisfied: numpy>=1.18.0 in /usr/local/lib/python3.8/dist-packages (from gym) (1.22.4)\n",
      "Requirement already satisfied: importlib-metadata>=4.8.0 in /usr/local/lib/python3.8/dist-packages (from gym) (6.0.0)\n",
      "Requirement already satisfied: gym-notices>=0.0.4 in /usr/local/lib/python3.8/dist-packages (from gym) (0.0.8)\n",
      "Requirement already satisfied: zipp>=0.5 in /usr/local/lib/python3.8/dist-packages (from importlib-metadata>=4.8.0->gym) (3.15.0)\n",
      "Hit:1 https://cloud.r-project.org/bin/linux/ubuntu focal-cran40/ InRelease\n",
      "Ign:2 https://developer.download.nvidia.com/compute/machine-learning/repos/ubuntu2004/x86_64  InRelease\n",
      "Hit:3 https://developer.download.nvidia.com/compute/cuda/repos/ubuntu2004/x86_64  InRelease\n",
      "Hit:4 https://developer.download.nvidia.com/compute/machine-learning/repos/ubuntu2004/x86_64  Release\n",
      "Hit:5 http://archive.ubuntu.com/ubuntu focal InRelease\n",
      "Get:6 http://security.ubuntu.com/ubuntu focal-security InRelease [114 kB]\n",
      "Hit:7 http://archive.ubuntu.com/ubuntu focal-updates InRelease\n",
      "Hit:8 http://ppa.launchpad.net/c2d4u.team/c2d4u4.0+/ubuntu focal InRelease\n",
      "Get:9 http://archive.ubuntu.com/ubuntu focal-backports InRelease [108 kB]\n",
      "Hit:11 http://ppa.launchpad.net/cran/libgit2/ubuntu focal InRelease\n",
      "Hit:12 http://ppa.launchpad.net/deadsnakes/ppa/ubuntu focal InRelease\n",
      "Hit:13 http://ppa.launchpad.net/graphics-drivers/ppa/ubuntu focal InRelease\n",
      "Hit:14 http://ppa.launchpad.net/ubuntugis/ppa/ubuntu focal InRelease\n",
      "Fetched 222 kB in 1s (177 kB/s)\n",
      "Reading package lists... Done\n",
      "Reading package lists... Done\n",
      "Building dependency tree       \n",
      "Reading state information... Done\n",
      "python-opengl is already the newest version (3.1.0+dfsg-2build1).\n",
      "ffmpeg is already the newest version (7:4.2.7-0ubuntu0.1).\n",
      "xvfb is already the newest version (2:1.20.13-1ubuntu1~20.04.6).\n",
      "0 upgraded, 0 newly installed, 0 to remove and 22 not upgraded.\n",
      "Looking in indexes: https://pypi.org/simple, https://us-python.pkg.dev/colab-wheels/public/simple/\n",
      "Requirement already satisfied: gpytorch in /usr/local/lib/python3.8/dist-packages (1.9.1)\n",
      "Requirement already satisfied: linear-operator>=0.2.0 in /usr/local/lib/python3.8/dist-packages (from gpytorch) (0.3.0)\n",
      "Requirement already satisfied: scikit-learn in /usr/local/lib/python3.8/dist-packages (from gpytorch) (1.2.1)\n",
      "Requirement already satisfied: scipy in /usr/local/lib/python3.8/dist-packages (from linear-operator>=0.2.0->gpytorch) (1.10.1)\n",
      "Requirement already satisfied: torch>=1.11 in /usr/local/lib/python3.8/dist-packages (from linear-operator>=0.2.0->gpytorch) (1.13.1+cu116)\n",
      "Requirement already satisfied: numpy>=1.17.3 in /usr/local/lib/python3.8/dist-packages (from scikit-learn->gpytorch) (1.22.4)\n",
      "Requirement already satisfied: joblib>=1.1.1 in /usr/local/lib/python3.8/dist-packages (from scikit-learn->gpytorch) (1.2.0)\n",
      "Requirement already satisfied: threadpoolctl>=2.0.0 in /usr/local/lib/python3.8/dist-packages (from scikit-learn->gpytorch) (3.1.0)\n",
      "Requirement already satisfied: typing-extensions in /usr/local/lib/python3.8/dist-packages (from torch>=1.11->linear-operator>=0.2.0->gpytorch) (4.5.0)\n",
      "Looking in indexes: https://pypi.org/simple, https://us-python.pkg.dev/colab-wheels/public/simple/\n",
      "Requirement already satisfied: moviepy in /usr/local/lib/python3.8/dist-packages (0.2.3.5)\n",
      "Requirement already satisfied: numpy in /usr/local/lib/python3.8/dist-packages (from moviepy) (1.22.4)\n",
      "Requirement already satisfied: tqdm<5.0,>=4.11.2 in /usr/local/lib/python3.8/dist-packages (from moviepy) (4.64.1)\n",
      "Requirement already satisfied: decorator<5.0,>=4.0.2 in /usr/local/lib/python3.8/dist-packages (from moviepy) (4.4.2)\n",
      "Requirement already satisfied: imageio<3.0,>=2.1.2 in /usr/local/lib/python3.8/dist-packages (from moviepy) (2.9.0)\n",
      "Requirement already satisfied: pillow in /usr/local/lib/python3.8/dist-packages (from imageio<3.0,>=2.1.2->moviepy) (8.4.0)\n",
      "Looking in indexes: https://pypi.org/simple, https://us-python.pkg.dev/colab-wheels/public/simple/\n",
      "Requirement already satisfied: imageio_ffmpeg in /usr/local/lib/python3.8/dist-packages (0.4.8)\n"
     ]
    }
   ],
   "source": [
    "# Install environment\n",
    "!pip install git+https://github.com/eleurent/highway-env#egg=highway-env\n",
    "!pip install gym pyvirtualdisplay\n",
    "!apt-get update\n",
    "\n",
    "# Install visualization and Gaussian processes dependencies \n",
    "!apt-get install -y xvfb python-opengl ffmpeg -y\n",
    "!pip install gpytorch\n",
    "!pip install moviepy\n",
    "!pip install imageio_ffmpeg"
   ]
  },
  {
   "cell_type": "code",
   "execution_count": 2,
   "metadata": {
    "id": "bzMSuJEOfviP"
   },
   "outputs": [],
   "source": [
    "# Import environment\n",
    "import gymnasium as gym\n",
    "import highway_env\n",
    "\n",
    "# Models and computation\n",
    "import torch\n",
    "import torch.nn as nn\n",
    "import torch.nn.functional as F\n",
    "import numpy as np\n",
    "from collections import namedtuple\n",
    "import gpytorch\n",
    "from gpytorch.constraints import GreaterThan, Positive, LessThan\n",
    "\n",
    "#suppress trivial warning from gpytorch\n",
    "import warnings\n",
    "warnings.filterwarnings(\"ignore\", message=\"CG terminated in 1000 iterations\")\n",
    "\n",
    "# Visualization\n",
    "import matplotlib\n",
    "import matplotlib.pyplot as plt\n",
    "%matplotlib inline\n",
    "from tqdm.notebook import trange\n",
    "from IPython import display as ipythondisplay\n",
    "from pyvirtualdisplay import Display\n",
    "from gym.wrappers import RecordVideo\n",
    "import base64\n",
    "\n",
    "# IO\n",
    "from pathlib import Path"
   ]
  },
  {
   "cell_type": "markdown",
   "metadata": {
    "id": "n2Bu_Pqop0E7"
   },
   "source": [
    "Here is a simple helper function for visualization of episodes directly in this Colab notebook:\n",
    "\n"
   ]
  },
  {
   "cell_type": "code",
   "execution_count": 3,
   "metadata": {
    "id": "so7yH4ucyB-3"
   },
   "outputs": [],
   "source": [
    "display = Display(visible=0, size=(1400, 900))\n",
    "display.start()\n",
    "\n",
    "def show_videos(path=\"videos\"):\n",
    "    html = []\n",
    "    for mp4 in Path(path).glob(\"*.mp4\"):\n",
    "        video_b64 = base64.b64encode(mp4.read_bytes())\n",
    "        html.append('''<video alt=\"{}\" autoplay\n",
    "                      loop controls style=\"height: 400px;\">\n",
    "                      <source src=\"data:video/mp4;base64,{}\" type=\"video/mp4\" />\n",
    "                 </video>'''.format(mp4, video_b64.decode('ascii')))\n",
    "    ipythondisplay.display(ipythondisplay.HTML(data=\"<br>\".join(html)))"
   ]
  },
  {
   "cell_type": "markdown",
   "metadata": {
    "id": "nFtBY6JSqPFa"
   },
   "source": [
    "Here we set up the parking environment"
   ]
  },
  {
   "cell_type": "code",
   "execution_count": 4,
   "metadata": {
    "colab": {
     "base_uri": "https://localhost:8080/"
    },
    "id": "jKZt9Cb1rJ6n",
    "outputId": "8e172a34-cfce-44c2-b9e8-ccefa7d31520"
   },
   "outputs": [
    {
     "name": "stderr",
     "output_type": "stream",
     "text": [
      "/usr/local/lib/python3.8/dist-packages/gym/core.py:317: DeprecationWarning: \u001b[33mWARN: Initializing wrapper in old step API which returns one bool instead of two. It is recommended to set `new_step_api=True` to use new step API. This will be the default behaviour in future.\u001b[0m\n",
      "  deprecation(\n",
      "/usr/local/lib/python3.8/dist-packages/gym/wrappers/record_video.py:78: UserWarning: \u001b[33mWARN: Overwriting existing videos at /content/videos folder (try specifying a different `video_folder` for the `RecordVideo` wrapper if this is not desired)\u001b[0m\n",
      "  logger.warn(\n"
     ]
    }
   ],
   "source": [
    "env = gym.make(\"parking-v0\", render_mode='rgb_array') #instantiate the parking environment \n",
    "VIDEO_PATH = './video' #designate the video path\n",
    "env = RecordVideo(env, video_folder='./videos', episode_trigger=lambda e: True, )\n",
    "env.unwrapped.set_record_video_wrapper(env) #set up virtual monitor to store the video files at VIDEO_PATH dir"
   ]
  },
  {
   "cell_type": "markdown",
   "metadata": {
    "id": "bIjh7uN04ch8"
   },
   "source": [
    "To see the configuration, run the following:"
   ]
  },
  {
   "cell_type": "code",
   "execution_count": 5,
   "metadata": {
    "colab": {
     "base_uri": "https://localhost:8080/"
    },
    "id": "byyObpA14Dc3",
    "outputId": "b2a47d68-556b-4173-c117-984ca28cbefc"
   },
   "outputs": [
    {
     "data": {
      "text/plain": [
       "{'observation': {'type': 'KinematicsGoal',\n",
       "  'features': ['x', 'y', 'vx', 'vy', 'cos_h', 'sin_h'],\n",
       "  'scales': [100, 100, 5, 5, 1, 1],\n",
       "  'normalize': False},\n",
       " 'action': {'type': 'ContinuousAction'},\n",
       " 'simulation_frequency': 15,\n",
       " 'policy_frequency': 5,\n",
       " 'other_vehicles_type': 'highway_env.vehicle.behavior.IDMVehicle',\n",
       " 'screen_width': 600,\n",
       " 'screen_height': 300,\n",
       " 'centering_position': [0.5, 0.5],\n",
       " 'scaling': 7,\n",
       " 'show_trajectories': False,\n",
       " 'render_agent': True,\n",
       " 'offscreen_rendering': False,\n",
       " 'manual_control': False,\n",
       " 'real_time_rendering': False,\n",
       " 'reward_weights': [1, 0.3, 0, 0, 0.02, 0.02],\n",
       " 'success_goal_reward': 0.12,\n",
       " 'collision_reward': -500,\n",
       " 'steering_range': 0.7853981633974483,\n",
       " 'duration': 100,\n",
       " 'controlled_vehicles': 1,\n",
       " 'vehicles_count': 0,\n",
       " 'add_walls': True}"
      ]
     },
     "execution_count": 5,
     "metadata": {},
     "output_type": "execute_result"
    }
   ],
   "source": [
    "env.config"
   ]
  },
  {
   "cell_type": "markdown",
   "metadata": {
    "id": "AujR0dDk0g7r"
   },
   "source": [
    "## 1.1. Running an episode with random actions\n",
    "\n",
    "The environment is a `GoalEnv` type, which means the agent receives a dictionary containing both the current `observation` and the `desired_goal` that conditions its policy. In this case, `observation` or `achieved_goal` is the current states and `desired_goal` are the target."
   ]
  },
  {
   "cell_type": "code",
   "execution_count": 6,
   "metadata": {
    "colab": {
     "base_uri": "https://localhost:8080/",
     "height": 367
    },
    "id": "dl6FK9egzX4F",
    "outputId": "6e87ecba-40dc-4162-b704-57a05797da96"
   },
   "outputs": [
    {
     "name": "stderr",
     "output_type": "stream",
     "text": [
      "/usr/local/lib/python3.8/dist-packages/gymnasium/utils/passive_env_checker.py:357: UserWarning: \u001b[33mWARN: No render fps was declared in the environment (env.metadata['render_fps'] is None or not defined), rendering may occur at inconsistent fps.\u001b[0m\n",
      "  logger.warn(\n",
      "WARNING:matplotlib.legend:No artists with labels found to put in legend.  Note that artists whose label start with an underscore are ignored when legend() is called with no argument.\n"
     ]
    },
    {
     "data": {
      "image/png": "[encoded data removed]",
      "text/plain": [
       "<Figure size 432x288 with 1 Axes>"
      ]
     },
     "metadata": {
      "needs_background": "light"
     },
     "output_type": "display_data"
    }
   ],
   "source": [
    "#run an episode\n",
    "env.reset() #resetting the environment to start from a randomized state\n",
    "done = False\n",
    "\n",
    "rewards = []\n",
    "states = []\n",
    "i=0\n",
    "while not done and i<=100:\n",
    "  i+=1\n",
    "  action = env.action_space.sample() #use random actions\n",
    "  obs, reward, done, info = env.step(action)    # REPLACE THE THREE DOTS WITH YOUR OWN CODE\n",
    "\n",
    "  #store the state and reward in a list\n",
    "  rewards.append(reward) #store the reward in a list  \n",
    "  states.append(obs)  \n",
    "    # ... # REPLACE THE THREE DOTS WITH YOUR OWN CODE    \n",
    "env.close()\n",
    "\n",
    "#Which variable does store the achieved_goal or observation (s_n) and the desired_goal (s^*)?\n",
    "# ... # REPLACE THE THREE DOTS WITH YOUR OWN CODE\n",
    "plt.figure()\n",
    "plt.plot([obs['observation'] for obs in states])\n",
    "plt.title(\"Lane Index over Time\")\n",
    "plt.xlabel(\"Time Step\")\n",
    "plt.ylabel(\"Lane Index\")\n",
    "plt.legend()\n",
    "plt.show()"
   ]
  },
  {
   "cell_type": "markdown",
   "metadata": {
    "id": "uKiWG3bV1hnf"
   },
   "source": [
    "## 1.2. Reward definition\n",
    "\n",
    "The reward (or more specifically penalty, as it uses negative sign) here is the difference between the current state to the targe (parking space)."
   ]
  },
  {
   "cell_type": "code",
   "execution_count": 7,
   "metadata": {
    "colab": {
     "base_uri": "https://localhost:8080/"
    },
    "id": "3vgqUe2vzi_h",
    "outputId": "21931d35-5393-408c-b1bd-a21036fb0c4b"
   },
   "outputs": [
    {
     "data": {
      "text/plain": [
       "-0.7422496456361148"
      ]
     },
     "execution_count": 7,
     "metadata": {},
     "output_type": "execute_result"
    }
   ],
   "source": [
    "#Negative reward \n",
    "states_labels = env.config['observation']['features'] #the labels for the states\n",
    "states_scales = env.config['observation']['scales'] #the scales for the states (if needed for plotting)\n",
    "\n",
    "weights = np.array([1, 0.3, 0, 0, 0.02, 0.02]) #weights\n",
    "weighted_norm=[]\n",
    "p=0\n",
    "for obs in states:\n",
    "  p=sum(abs(obs['observation']-obs['desired_goal'])*weights)\n",
    "  weighted_norm .append(-np.sqrt(p))# REPLACE THE THREE DOTS WITH YOUR OWN CODE\n",
    "\n",
    "#plot the weighted norm over time\n",
    "# REPLACE THE THREE DOTS WITH YOUR OWN CODE\n",
    "weighted_norm[-1]"
   ]
  },
  {
   "cell_type": "code",
   "execution_count": 8,
   "metadata": {
    "colab": {
     "base_uri": "https://localhost:8080/",
     "height": 295
    },
    "id": "a7fgHmrfZOOV",
    "outputId": "b8b9fc15-113f-4a32-8fcc-fad1e9fba296"
   },
   "outputs": [
    {
     "data": {
      "image/png": "[encoded data removed]",
      "text/plain": [
       "<Figure size 432x288 with 1 Axes>"
      ]
     },
     "metadata": {
      "needs_background": "light"
     },
     "output_type": "display_data"
    }
   ],
   "source": [
    "#not needed, but as hinted: \n",
    "#might be useful to compare the calculated weighted norm with the actual reward\n",
    "#they should be the same if your calculation is correct\n",
    "\n",
    "#Reward comparison\n",
    "plt.plot(weighted_norm[:-1], lw=6, label=\"manually calculated\")\n",
    "plt.plot(rewards[:-1], lw=2, label=\"reward from the environment\")\n",
    "plt.title('Reward comparison')\n",
    "plt.xlabel('Timestep')\n",
    "plt.legend()\n",
    "plt.show()"
   ]
  },
  {
   "cell_type": "markdown",
   "metadata": {
    "id": "gAH0JQDi2doG"
   },
   "source": [
    "##1.3 Final reward and vehicle trajectory\n",
    "\n"
   ]
  },
  {
   "cell_type": "code",
   "execution_count": 9,
   "metadata": {
    "colab": {
     "base_uri": "https://localhost:8080/",
     "height": 312
    },
    "id": "wWbqoBjs3v6-",
    "outputId": "bcd3c0d1-1e4f-433d-d0d4-64268c38ed53"
   },
   "outputs": [
    {
     "data": {
      "text/plain": [
       "Text(0.5, 1.0, 'Position of the car')"
      ]
     },
     "execution_count": 9,
     "metadata": {},
     "output_type": "execute_result"
    },
    {
     "data": {
      "image/png": "[encoded data removed]",
      "text/plain": [
       "<Figure size 432x288 with 1 Axes>"
      ]
     },
     "metadata": {
      "needs_background": "light"
     },
     "output_type": "display_data"
    }
   ],
   "source": [
    "# final reward\n",
    "final_reward=rewards[-1]# REPLACE THE THREE DOTS WITH YOUR OWN CODE\n",
    "\n",
    "# Plot the trajectory of the vehicle (x and y position over timestep) \n",
    "x=[]\n",
    "y=[]\n",
    "for obs in states:\n",
    "  x.append(obs['observation'][0])\n",
    "  y.append(obs['observation'][1])\n",
    "\n",
    "plt.plot(x,y) # REPLACE THE THREE DOTS WITH YOUR OWN CODE'\n",
    "plt.xlabel('X')\n",
    "plt.ylabel('Y')\n",
    "plt.title(\"Position of the car\")"
   ]
  },
  {
   "cell_type": "code",
   "execution_count": 10,
   "metadata": {
    "colab": {
     "base_uri": "https://localhost:8080/",
     "height": 422
    },
    "id": "KvPugEy109pb",
    "outputId": "2b6d333d-a667-4029-8468-df6709f29f32"
   },
   "outputs": [
    {
     "data": {
      "text/html": [
       "<video alt=\"videos/rl-video-episode-0.mp4\" autoplay\n",
       "                      loop controls style=\"height: 400px;\">\n",
       "                      <source src=\"data:video/mp4;base64,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\" type=\"video/mp4\" />\n",
       "                 </video>"
      ],
      "text/plain": [
       "<IPython.core.display.HTML object>"
      ]
     },
     "metadata": {},
     "output_type": "display_data"
    }
   ],
   "source": [
    "#load the video of the episode\n",
    "show_videos('./videos')"
   ]
  },
  {
   "attachments": {
    "image.png": {
     "image/png": "[encoded data removed]"
    }
   },
   "cell_type": "markdown",
   "metadata": {
    "id": "qz9vvOZ-Xi8E"
   },
   "source": [
    "![image.png](attachment:image.png)"
   ]
  },
  {
   "cell_type": "markdown",
   "metadata": {
    "id": "tIkHaqGd6qNG"
   },
   "source": [
    "### 2.1 Build a dynamics model with NN\n"
   ]
  },
  {
   "cell_type": "code",
   "execution_count": 11,
   "metadata": {
    "id": "0M-zVcBNAeZZ"
   },
   "outputs": [],
   "source": [
    "# reinitialize the env without recordvideo\n",
    "env = gym.make(\"parking-v0\", render_mode='rgb_array')"
   ]
  },
  {
   "cell_type": "code",
   "execution_count": 12,
   "metadata": {
    "id": "IRt5zS-t6o2h"
   },
   "outputs": [],
   "source": [
    "#NN structure\n",
    "class NN_DynamicsModel(nn.Module):\n",
    "    name = 'NN'\n",
    "    def __init__(self, state_size, action_size, hidden_size, dt):\n",
    "        super().__init__()\n",
    "        self.state_size, self.action_size, self.dt = state_size, action_size, dt\n",
    "        self.layer1 = nn.Linear(state_size + action_size, hidden_size)\n",
    "        self.layer2 = nn.Linear(hidden_size, state_size)\n",
    "\n",
    "    def forward(self, x, u):\n",
    "        \"\"\"\n",
    "            Predict x_{t+1} = f(x_t, u_t)\n",
    "        :param x: a batch of states\n",
    "        :param u: a batch of actions\n",
    "        :return x_{t+1}\n",
    "        \"\"\"\n",
    "        xu = torch.cat((x, u), -1)\n",
    "        xu = F.relu(self.layer1(xu))\n",
    "        dx = self.layer2(xu).squeeze()\n",
    "        \n",
    "        # note that our prediction is delta x: dx = x_{t+1} - x_{t}, \n",
    "        # so how to obtain x_{t+1}?\n",
    "        x_next = x+dx # REPLACE THE THREE DOTS WITH YOUR OWN CODE\n",
    "        return x_next"
   ]
  },
  {
   "cell_type": "markdown",
   "metadata": {
    "id": "nU_-UHbAa5no"
   },
   "source": [
    "Build NN dynamics model:"
   ]
  },
  {
   "cell_type": "code",
   "execution_count": 13,
   "metadata": {
    "id": "hl-SR6Oea3Yr"
   },
   "outputs": [],
   "source": [
    "#parameters to instantiate the NN model\n",
    "state_size = env.observation_space.spaces[\"observation\"].shape[0] #observation dimension\n",
    "action_size = env.action_space.shape[0] #action dimension\n",
    "hidden_size = 128 #width of the hidden layer\n",
    "timestep_duration = 1/env.unwrapped.config[\"policy_frequency\"] #timestep duration of the environment\n",
    "\n",
    "#instatiate the NN model\n",
    "dynamics_nn = NN_DynamicsModel(state_size,action_size,hidden_size,timestep_duration)  # REPLACE THE THREE DOTS WITH YOUR OWN CODE"
   ]
  },
  {
   "cell_type": "code",
   "execution_count": 14,
   "metadata": {
    "id": "eXk9J83LhOFX"
   },
   "outputs": [],
   "source": [
    "#run a full episode with random actions and store the untrained nn predictions\n",
    "state_data = []\n",
    "pred_data = []\n",
    "reward_data = []\n",
    "\n",
    "#initialize the environment\n",
    "env.reset()\n",
    "done = False\n",
    "\n",
    "while not done:\n",
    "    action = env.action_space.sample()\n",
    "    obs, reward, done, _, info = env.step(action)  # REPLACE THE THREE DOTS WITH YOUR OWN CODE\n",
    "\n",
    "    state = obs['observation']  # REPLACE THE THREE DOTS WITH YOUR OWN CODE\n",
    "    # print(action)\n",
    "    pred = dynamics_nn(torch.Tensor(state), torch.Tensor(action)).detach().numpy()\n",
    "\n",
    "    #store the data\n",
    "    state_data.append(state)\n",
    "    pred_data.append(pred)\n",
    "    reward_data.append(reward)\n",
    "\n",
    "env.close()"
   ]
  },
  {
   "cell_type": "code",
   "execution_count": 15,
   "metadata": {
    "colab": {
     "base_uri": "https://localhost:8080/",
     "height": 433
    },
    "id": "qgXFaE80hrIV",
    "outputId": "4242adde-4283-4f11-d59f-9e4f1c0a33f0"
   },
   "outputs": [
    {
     "data": {
      "text/plain": [
       "<matplotlib.legend.Legend at 0x7f8cf21ad880>"
      ]
     },
     "execution_count": 15,
     "metadata": {},
     "output_type": "execute_result"
    },
    {
     "data": {
      "image/png": "[encoded data removed]",
      "text/plain": [
       "<Figure size 720x720 with 6 Axes>"
      ]
     },
     "metadata": {
      "needs_background": "light"
     },
     "output_type": "display_data"
    }
   ],
   "source": [
    "# Plot the true and predicted states\n",
    "... # REPLACE THE THREE DOTS WITH YOUR OWN CODE\n",
    "x_true=[x[0] for x in state_data]\n",
    "x_pred=[x[0] for x in pred_data]\n",
    "y_true=[x[1] for x in state_data]\n",
    "y_pred=[x[1] for x in pred_data]\n",
    "vx_true=[x[2] for x in state_data]\n",
    "vx_pred=[x[2] for x in pred_data]\n",
    "vy_true=[x[3] for x in state_data]\n",
    "vy_pred=[x[3] for x in pred_data]\n",
    "cos_h_true=[x[4] for x in state_data]\n",
    "cos_h_pred=[x[4] for x in pred_data]\n",
    "sin_h_true=[x[5] for x in state_data]\n",
    "sin_h_pred=[x[5] for x in pred_data]\n",
    "plt.figure(figsize=(10,10))\n",
    "plt.subplot(331)\n",
    "plt.plot(x_true,label='x_True')\n",
    "plt.plot(x_pred,label='x_Pred')\n",
    "plt.title('x')\n",
    "plt.subplot(332)\n",
    "plt.plot(y_true,label='y_True')\n",
    "plt.plot(y_pred,label='y_Pred')\n",
    "plt.title('y')\n",
    "plt.subplot(333)\n",
    "plt.plot(vx_true,label='vx_True')\n",
    "plt.plot(vx_pred,label='vx_Pred')\n",
    "plt.title('vx')\n",
    "plt.subplot(334)\n",
    "plt.plot(vy_true,label='vy_True')\n",
    "plt.plot(vy_pred,label='vy_Pred')\n",
    "plt.title('vy')\n",
    "plt.subplot(335)\n",
    "plt.plot(cos_h_true,label='cos_h_True')\n",
    "plt.plot(cos_h_pred,label='cos_h_Pred')\n",
    "plt.title('cos_h')\n",
    "plt.subplot(336)\n",
    "plt.plot(sin_h_true,label='sin_h_True')\n",
    "plt.plot(sin_h_pred,label='sin_h_Pred')\n",
    "plt.title('sin_h')\n",
    "# plt.plot(pred_data[0:],label='Pred')\n",
    "plt.legend()\n",
    "# state_data"
   ]
  },
  {
   "cell_type": "markdown",
   "metadata": {
    "id": "I2PuVAvyfvib"
   },
   "source": [
    "## 2.2 Model training\n",
    "\n",
    "First, we randomly interact with the environment to produce a batch of experiences.\n",
    "$$D = \\{s_t, a_t, s_{t+1}\\}_{t\\in[1,N]}$$"
   ]
  },
  {
   "cell_type": "code",
   "execution_count": 16,
   "metadata": {
    "id": "tvUYSL7sfvie"
   },
   "outputs": [],
   "source": [
    "#functions to create experiences dataset D\n",
    "\n",
    "Transition = namedtuple('Transition', ['state', 'action', 'next_state'])\n",
    "\n",
    "def collect_interaction_data(env, size=2000, action_repeat=1):\n",
    "    data, done = [], True\n",
    "    for _ in trange(size):\n",
    "        action = env.action_space.sample() #random sample actions\n",
    "        for _ in range(action_repeat):\n",
    "            previous_obs = env.reset()[0] if done else obs\n",
    "            obs, reward, done, _, info = env.step(action)\n",
    "            data.append(Transition(torch.Tensor(previous_obs[\"observation\"]),\n",
    "                                   torch.Tensor(action),\n",
    "                                   torch.Tensor(obs[\"observation\"])))\n",
    "    return data\n",
    "\n",
    "def transpose_batch(batch):\n",
    "    return Transition(*map(torch.stack, zip(*batch)))"
   ]
  },
  {
   "cell_type": "code",
   "execution_count": 17,
   "metadata": {
    "colab": {
     "base_uri": "https://localhost:8080/",
     "height": 121,
     "referenced_widgets": [
      "01b3a724e74d4f8ea03e4bb13dc1709d",
      "f28b99d726a045d2bb8ac99dfa4296b4",
      "84ca5b2109514d2fb7042ab6c0f3b45c",
      "ef2bf2a2322647e2bc4afd3eaa4f5af2",
      "d1bd49a31be44f3b84e5735383589b96",
      "2fb45ee2311a4711916a2cbf481c1db9",
      "1193d18ffafa49e396fbae6e65db0d21",
      "75485be3918f4a89b93cc1a22b94a14b",
      "c1614d9f809d4c808dff5a1d0a3a6471",
      "b3efb7f6d0784372a48ff2c1d3e656d3",
      "d45e8a96d93e445d8e21454441a3af59"
     ]
    },
    "id": "b39DfwWJrSKd",
    "outputId": "e86d56a0-8918-4e89-9636-774cff44e62c"
   },
   "outputs": [
    {
     "data": {
      "application/vnd.jupyter.widget-view+json": {
       "model_id": "01b3a724e74d4f8ea03e4bb13dc1709d",
       "version_major": 2,
       "version_minor": 0
      },
      "text/plain": [
       "  0%|          | 0/2000 [00:00<?, ?it/s]"
      ]
     },
     "metadata": {},
     "output_type": "display_data"
    },
    {
     "name": "stdout",
     "output_type": "stream",
     "text": [
      "Sample transition: Transition(state=tensor([ 0.0000,  0.0000,  0.0000, -0.0000,  0.8256, -0.5642]), action=tensor([-0.6776, -0.2868]), next_state=tensor([-3.4166e-04,  2.9551e-04, -1.1205e-01,  7.6228e-02,  8.2680e-01,\n",
      "        -5.6249e-01]))\n",
      "Buffer size: 2000\n"
     ]
    }
   ],
   "source": [
    "size = 2000  # REPLACE THE THREE DOTS WITH YOUR OWN CODE\n",
    "\n",
    "data = collect_interaction_data(env, size=size)\n",
    "\n",
    "print(\"Sample transition:\", data[0])\n",
    "print(\"Buffer size:\", len(data))"
   ]
  },
  {
   "cell_type": "code",
   "execution_count": 18,
   "metadata": {
    "id": "NwCDLD1wfvi2"
   },
   "outputs": [],
   "source": [
    "# Split dataset into training and validation\n",
    "\n",
    "train_ratio = 0.7 # REPLACE THE THREE DOTS WITH YOUR OWN CODE\n",
    "\n",
    "train_data, validation_data = data[:int(train_ratio * len(data))], \\\n",
    "                              data[int(train_ratio * len(data)):]"
   ]
  },
  {
   "cell_type": "code",
   "execution_count": 19,
   "metadata": {
    "id": "H4W_BruVsD-Z"
   },
   "outputs": [],
   "source": [
    "# functions to train the model\n",
    "\n",
    "def compute_loss(model, data_t, loss_func = torch.nn.MSELoss()):\n",
    "    states, actions, next_states = data_t\n",
    "    predictions = model(states, actions)\n",
    "    return loss_func(predictions, next_states)\n",
    "\n",
    "def train(model, train_data, validation_data, epochs, learning_rate):\n",
    "    optimizer = torch.optim.Adam(model.parameters(), lr=learning_rate)\n",
    "    train_data_t = transpose_batch(train_data)\n",
    "    validation_data_t = transpose_batch(validation_data)\n",
    "    losses = np.full((epochs, 2), np.nan)\n",
    "\n",
    "    for epoch in trange(epochs):\n",
    "        # Compute loss gradient and step optimizer\n",
    "        loss = compute_loss(model, train_data_t)\n",
    "        validation_loss = compute_loss(model, validation_data_t)\n",
    "        losses[epoch] = [loss.detach().numpy(), validation_loss.detach().numpy()]\n",
    "        optimizer.zero_grad()\n",
    "        loss.backward()\n",
    "        optimizer.step()\n",
    "\n",
    "    # Plot losses\n",
    "    plt.plot(losses)\n",
    "    plt.yscale(\"log\")\n",
    "    plt.xlabel(\"epochs\")\n",
    "    plt.ylabel(\"loss\")\n",
    "    plt.legend([\"training\", \"validation\"])\n",
    "    plt.show()"
   ]
  },
  {
   "cell_type": "markdown",
   "metadata": {
    "id": "wxNFrBccbF9T"
   },
   "source": [
    "Training the model"
   ]
  },
  {
   "cell_type": "code",
   "execution_count": 20,
   "metadata": {
    "colab": {
     "base_uri": "https://localhost:8080/",
     "height": 311,
     "referenced_widgets": [
      "d9fd88164df149c08a20ef1d14ae70f0",
      "3c2bad67d59243b6a9512411aa8f1db9",
      "410582d0e993478bbb616efd9e5ffc83",
      "72f7b1d5fcf642069d42e0e7c489c8aa",
      "1374bf490b894a8090327124eefcd121",
      "82a1cc187e974199a35aeea0e3de7997",
      "02a3b5a5190544489c5f458cf2ab2ea4",
      "ee6611dcb50446138f62cc05741e86a9",
      "59c068ae44b84264be777e51f4d358e8",
      "343530a3b0c345b99e0384352372b0d6",
      "cf46645e854a4ad9af23598167b3701d"
     ]
    },
    "id": "npTKFvkJ1RKt",
    "outputId": "9c1738da-9073-4bb7-9977-586736993ccb"
   },
   "outputs": [
    {
     "data": {
      "application/vnd.jupyter.widget-view+json": {
       "model_id": "d9fd88164df149c08a20ef1d14ae70f0",
       "version_major": 2,
       "version_minor": 0
      },
      "text/plain": [
       "  0%|          | 0/1000 [00:00<?, ?it/s]"
      ]
     },
     "metadata": {},
     "output_type": "display_data"
    },
    {
     "data": {
      "image/png": "[encoded data removed]",
      "text/plain": [
       "<Figure size 432x288 with 1 Axes>"
      ]
     },
     "metadata": {
      "needs_background": "light"
     },
     "output_type": "display_data"
    }
   ],
   "source": [
    "num_epochs = 1000 # REPLACE THE THREE DOTS WITH YOUR OWN CODE\n",
    "learning_rate = 0.01 # REPLACE THE THREE DOTS WITH YOUR OWN CODE\n",
    "train(dynamics_nn, train_data, validation_data, epochs=num_epochs, learning_rate = learning_rate)"
   ]
  },
  {
   "cell_type": "markdown",
   "metadata": {
    "id": "izS9PQzl6KKg"
   },
   "source": [
    "## 2.3 Predictions of the trained NN"
   ]
  },
  {
   "cell_type": "code",
   "execution_count": 21,
   "metadata": {
    "id": "KE8uwGB-jOX3"
   },
   "outputs": [],
   "source": [
    "dynamics_nn.eval() #set the trained model for use\n",
    "\n",
    "#run a full episode with random actions and store the trained nn predictions\n",
    "state_data = []\n",
    "pred_data = []\n",
    "reward_data = []\n",
    "\n",
    "#initialize the environment\n",
    "env.reset()\n",
    "done = False\n",
    "\n",
    "while not done:\n",
    "    action = env.action_space.sample()\n",
    "    obs, reward, done, _, info = env.step(action)\n",
    "\n",
    "    state = obs['observation']  # REPLACE THE THREE DOTS WITH YOUR OWN CODE\n",
    "    \n",
    "    pred = dynamics_nn(torch.Tensor(state), torch.Tensor(action)).detach().numpy()\n",
    "\n",
    "    #store the data\n",
    "    state_data.append(state)\n",
    "    pred_data.append(pred)\n",
    "    reward_data.append(reward)\n",
    "\n",
    "env.close()"
   ]
  },
  {
   "cell_type": "code",
   "execution_count": 22,
   "metadata": {
    "colab": {
     "base_uri": "https://localhost:8080/",
     "height": 433
    },
    "id": "s3wLJdo5vnTB",
    "outputId": "5acfc7e0-2b63-4f21-a102-80cd753dcd08"
   },
   "outputs": [
    {
     "data": {
      "text/plain": [
       "<matplotlib.legend.Legend at 0x7f8ce95a5250>"
      ]
     },
     "execution_count": 22,
     "metadata": {},
     "output_type": "execute_result"
    },
    {
     "data": {
      "image/png": "[encoded data removed]",
      "text/plain": [
       "<Figure size 720x720 with 6 Axes>"
      ]
     },
     "metadata": {
      "needs_background": "light"
     },
     "output_type": "display_data"
    }
   ],
   "source": [
    "# Plot the true and predicted states\n",
    "# Plot the true and predicted states\n",
    "... # REPLACE THE THREE DOTS WITH YOUR OWN CODE\n",
    "x_true=[x[0] for x in state_data]\n",
    "x_pred=[x[0] for x in pred_data]\n",
    "y_true=[x[1] for x in state_data]\n",
    "y_pred=[x[1] for x in pred_data]\n",
    "vx_true=[x[2] for x in state_data]\n",
    "vx_pred=[x[2] for x in pred_data]\n",
    "vy_true=[x[3] for x in state_data]\n",
    "vy_pred=[x[3] for x in pred_data]\n",
    "cos_h_true=[x[4] for x in state_data]\n",
    "cos_h_pred=[x[4] for x in pred_data]\n",
    "sin_h_true=[x[5] for x in state_data]\n",
    "sin_h_pred=[x[5] for x in pred_data]\n",
    "plt.figure(figsize=(10,10))\n",
    "plt.subplot(331)\n",
    "plt.plot(x_true,label='x_True')\n",
    "plt.plot(x_pred,label='x_Pred')\n",
    "plt.title('x')\n",
    "plt.subplot(332)\n",
    "plt.plot(y_true,label='y_True')\n",
    "plt.plot(y_pred,label='y_Pred')\n",
    "plt.title('y')\n",
    "plt.subplot(333)\n",
    "plt.plot(vx_true,label='vx_True')\n",
    "plt.plot(vx_pred,label='vx_Pred')\n",
    "plt.title('vx')\n",
    "plt.subplot(334)\n",
    "plt.plot(vy_true,label='vy_True')\n",
    "plt.plot(vy_pred,label='vy_Pred')\n",
    "plt.title('vy')\n",
    "plt.subplot(335)\n",
    "plt.plot(cos_h_true,label='cos_h_True')\n",
    "plt.plot(cos_h_pred,label='cos_h_Pred')\n",
    "plt.title('cos_h')\n",
    "plt.subplot(336)\n",
    "plt.plot(sin_h_true,label='sin_h_True')\n",
    "plt.plot(sin_h_pred,label='sin_h_Pred')\n",
    "plt.title('sin_h')\n",
    "# plt.plot(pred_data[0:],label='Pred')\n",
    "plt.legend()\n",
    "# state_data"
   ]
  },
  {
   "cell_type": "markdown",
   "metadata": {
    "id": "NXBODCuYfvi_"
   },
   "source": [
    "## CEM planner\n"
   ]
  },
  {
   "cell_type": "code",
   "execution_count": 23,
   "metadata": {
    "id": "cRubRv9buNXj"
   },
   "outputs": [],
   "source": [
    "#functions to help build the  CEM method\n",
    "def predict_trajectory_actionlist(state, actions, model, action_repeat=1):\n",
    "    states = []\n",
    "    for action in actions:\n",
    "        for _ in range(action_repeat):\n",
    "            if model.name == 'GP':\n",
    "                state = model(torch.cat((state, action), -1)).mean\n",
    "            else: \n",
    "                state = model(state, action)\n",
    "            states.append(state)\n",
    "    return torch.stack(states, dim=0)\n",
    "\n",
    "def reward_model(states, goal, gamma=None):\n",
    "    \"\"\"\n",
    "        The reward is a weighted L1-norm between the state and a goal\n",
    "    :param Tensor states: a batch of states. shape: [batch_size, state_size].\n",
    "    :param Tensor goal: a goal state. shape: [state_size].\n",
    "    :param float gamma: a discount factor\n",
    "    \"\"\"\n",
    "    goal = goal.expand(states.shape)\n",
    "    reward_weigths = torch.Tensor(env.unwrapped.config[\"reward_weights\"])\n",
    "    rewards = -torch.pow(torch.norm((states-goal)*reward_weigths, p=1, dim=-1), 0.5)\n",
    "    if gamma:\n",
    "        time = torch.arange(rewards.shape[0], dtype=torch.float).unsqueeze(-1).expand(rewards.shape)\n",
    "        rewards *= torch.pow(gamma, time)\n",
    "    return rewards"
   ]
  },
  {
   "cell_type": "markdown",
   "metadata": {
    "id": "Q5D6W4p7fvjI"
   },
   "source": [
    "We now use the learnt dynamics model $f_\\theta$ for planning.\n",
    "In order to solve the optimal control problem, we use a sampling-based optimization algorithm: the **Cross-Entropy Method** (`CEM`). It is an optimization algorithm applicable to problems that are both **combinatorial** and **continuous**, which is our case: find the best performing sequence of actions."
   ]
  },
  {
   "cell_type": "code",
   "execution_count": 24,
   "metadata": {
    "id": "bzPKYg23fvjL"
   },
   "outputs": [],
   "source": [
    "def cem_planner(state, goal, action_size, model, horizon=5, population=10, selection=5, iterations=5):\n",
    "    state = state.expand(population, -1)\n",
    "    action_mean = torch.zeros(horizon, population, action_size)\n",
    "    action_std = torch.ones(horizon, population, action_size)\n",
    "\n",
    "    for iter_num in range(iterations):\n",
    "        # 1. Draw sample sequences of actions from a normal distribution\n",
    "        actions = action_mean+ action_std.expand(horizon, population, action_size) * torch.randn(horizon, population, action_size)\n",
    "        actions = torch.clamp(actions, min=env.action_space.low.min(), max=env.action_space.high.max())\n",
    "        states = predict_trajectory_actionlist(state, actions, model, action_repeat=horizon)\n",
    "\n",
    "        # 2. Fit the distribution to the top-k performing sequences\n",
    "        returns = reward_model(states, goal).sum(dim=0)\n",
    "        _, best = returns.topk(selection, largest=True, sorted=False)\n",
    "        best_actions = actions[:, best, :]\n",
    "\n",
    "        action_std = best_actions.std(dim=1, unbiased=False, keepdim=True)\n",
    "        action_mean = best_actions.mean(dim=1, keepdim=True)  # REPLACE THE THREE DOTS WITH YOUR OWN CODE\n",
    "\n",
    "    return action_mean[0].squeeze(dim=0)\n"
   ]
  },
  {
   "cell_type": "markdown",
   "metadata": {
    "id": "nKK-WkDh0z_Q"
   },
   "source": [
    "Example of using the CEM to select actions:"
   ]
  },
  {
   "cell_type": "code",
   "execution_count": 25,
   "metadata": {
    "colab": {
     "base_uri": "https://localhost:8080/"
    },
    "id": "kBxoEeqv7DMn",
    "outputId": "85b3336e-f4b7-4706-a4a9-7bc7a93234ce"
   },
   "outputs": [
    {
     "name": "stdout",
     "output_type": "stream",
     "text": [
      "Planned action: tensor([ 0.4795, -0.6063])\n"
     ]
    }
   ],
   "source": [
    "# Run the planner on a sample transition\n",
    "\n",
    "obs = env.reset()[0] #reset the environment to start\n",
    "\n",
    "#run CEM to get actions using NN dynamics model\n",
    "H = 3 #planning horizon\n",
    "K = 10 #population size\n",
    "\n",
    "action_nn = cem_planner(torch.Tensor(obs[\"observation\"]),\n",
    "                     torch.Tensor(obs[\"desired_goal\"]),\n",
    "                     env.action_space.shape[0], dynamics_nn,\n",
    "                     horizon=H, population=K)\n",
    "\n",
    "print(\"Planned action:\", action_nn)"
   ]
  },
  {
   "cell_type": "markdown",
   "metadata": {
    "id": "3sw6vxTu0-pL"
   },
   "source": [
    "## 2.4. CEM with NN model"
   ]
  },
  {
   "cell_type": "code",
   "execution_count": 26,
   "metadata": {
    "colab": {
     "base_uri": "https://localhost:8080/"
    },
    "id": "g1UXtD3fuwla",
    "outputId": "fb06cf38-6074-4420-ce88-8e9425832d18"
   },
   "outputs": [
    {
     "name": "stdout",
     "output_type": "stream",
     "text": [
      "1\n",
      "2\n",
      "3\n",
      "4\n",
      "5\n",
      "6\n",
      "7\n",
      "8\n",
      "9\n",
      "10\n",
      "11\n",
      "12\n",
      "13\n",
      "14\n",
      "15\n",
      "16\n",
      "17\n",
      "18\n",
      "19\n",
      "20\n"
     ]
    }
   ],
   "source": [
    "#run an episode for nn\n",
    "\n",
    "#run an episode with random actions for at most n time steps\n",
    "n = 20 # REPLACE THE THREE DOTS WITH YOUR OWN CODE\n",
    "H = 5 # REPLACE THE THREE DOTS WITH YOUR OWN CODE\n",
    "K = 10 # REPLACE THE THREE DOTS WITH YOUR OWN CODE\n",
    "\n",
    "import time\n",
    "\n",
    "nn_time = []\n",
    "state_data_nn = []\n",
    "reward_data_nn = []\n",
    "\n",
    "env.reset()\n",
    "done = False\n",
    "i=0 #iterates\n",
    "t=0\n",
    "while (not done and i < n) :\n",
    "\n",
    "    #use CEM with NN model to select actions\n",
    "    start = time.time()\n",
    "    state = obs[\"observation\"]\n",
    "    target = obs[\"desired_goal\"]\n",
    "    # REPLACE THE THREE DOTS WITH YOUR OWN CODE\n",
    "    action = env.action_space.sample()\n",
    "    obs, reward, done, _, info = env.step(action)\n",
    "    obs_=obs['observation']\n",
    "\n",
    "    end = time.time()\n",
    "    #store the data\n",
    "    t+=end-start\n",
    "    nn_time.append(t)\n",
    "    state_data_nn.append(obs_)\n",
    "    reward_data_nn.append(reward)\n",
    "    \n",
    "    i+=1\n",
    "    print(i, end=\"\\n\")\n",
    "    \n",
    "env.close()\n"
   ]
  },
  {
   "cell_type": "code",
   "execution_count": 27,
   "metadata": {
    "colab": {
     "base_uri": "https://localhost:8080/",
     "height": 313
    },
    "id": "y8tAbKYR_MAV",
    "outputId": "15b46995-dc71-4ea0-acf2-4eaa88b2385d"
   },
   "outputs": [
    {
     "data": {
      "text/plain": [
       "Text(0.5, 1.0, 'Rewards vs Time')"
      ]
     },
     "execution_count": 27,
     "metadata": {},
     "output_type": "execute_result"
    },
    {
     "data": {
      "image/png": "[encoded data removed]",
      "text/plain": [
       "<Figure size 432x288 with 1 Axes>"
      ]
     },
     "metadata": {
      "needs_background": "light"
     },
     "output_type": "display_data"
    }
   ],
   "source": [
    "# Plot the rewards over time step\n",
    "plt.plot(nn_time,reward_data_nn)\n",
    "plt.xlabel('Time_step')\n",
    "plt.ylabel('Rewards')\n",
    "plt.title('Rewards vs Time')"
   ]
  },
  {
   "cell_type": "markdown",
   "metadata": {
    "id": "eDcRWzl36xO7"
   },
   "source": [
    "### 3.1 Build a dynamics model with a Gaussian process"
   ]
  },
  {
   "cell_type": "code",
   "execution_count": 28,
   "metadata": {
    "id": "6lMVTo1KaGM3"
   },
   "outputs": [],
   "source": [
    "#GP model structure\n",
    "#More details are available in gpytorch documentation: https://docs.gpytorch.ai/en/stable/\n",
    "\n",
    "import gpytorch\n",
    "from torch.utils.data import DataLoader\n",
    "\n",
    "class MultitaskGPModel(gpytorch.models.ExactGP):\n",
    "    name = 'GP'\n",
    "    def __init__(self, train_x, train_y, likelihood, num_tasks=6): # number tasks is equivalent to the output dim\n",
    "        super(MultitaskGPModel, self).__init__(train_x, train_y, likelihood)\n",
    "        self.num_tasks = num_tasks\n",
    "        self.mean_module = gpytorch.means.MultitaskMean(\n",
    "            gpytorch.means.ConstantMean(), num_tasks=num_tasks\n",
    "        )\n",
    "        self.covar_module = gpytorch.kernels.MultitaskKernel(\n",
    "            gpytorch.kernels.RBFKernel(), num_tasks=num_tasks, rank=1\n",
    "        )\n",
    "\n",
    "    def forward(self, x):\n",
    "        mean_x = self.mean_module(x)\n",
    "        covar_x = self.covar_module(x)\n",
    "        dists = gpytorch.distributions.MultitaskMultivariateNormal(mean_x + x[:,:self.num_tasks], covar_x)\n",
    "        return dists"
   ]
  },
  {
   "cell_type": "markdown",
   "metadata": {
    "id": "su_vEjfjaOPU"
   },
   "source": [
    "Build data pre-processing and prediction functions"
   ]
  },
  {
   "cell_type": "code",
   "execution_count": 29,
   "metadata": {
    "id": "FwTCXvwpaKkk"
   },
   "outputs": [],
   "source": [
    "#functions to prepare the data for GP training\n",
    "\n",
    "def GP_dataloader_process(data, train_ratio = 0.3):\n",
    "    # Split dataset into training and validation\n",
    "    data_n = transpose_batch(data)\n",
    "    inputs = torch.cat((data_n[0], data_n[1]), dim=1)\n",
    "    targets = data_n[2]\n",
    "    data_for_loader = []\n",
    "\n",
    "    for i in range(inputs.shape[0]):\n",
    "      data_for_loader.append([inputs[i], targets[i]])\n",
    "\n",
    "    # prepare data for loader\n",
    "    train_data_for_loader, validation_data_for_loader = data_for_loader[:int(train_ratio * len(data))], data_for_loader[int(train_ratio * len(data)):]\n",
    "\n",
    "    # prepare data for GP \n",
    "    return train_data_for_loader, validation_data_for_loader\n",
    "\n",
    "def GP_data_prepare(data, train_ratio = 0.3):\n",
    "    # Split dataset into training and validation\n",
    "    train_data, validation_data = data[:int(train_ratio * len(data))], \\\n",
    "                                  data[int(train_ratio * len(data)):]\n",
    "    train_data_t = transpose_batch(train_data)\n",
    "    states, actions, next_states = train_data_t\n",
    "    train_x = torch.cat((states, actions), -1)\n",
    "    train_y = next_states\n",
    "\n",
    "    validation_data_t = transpose_batch(validation_data)\n",
    "    val_states, val_actions, val_next_states = validation_data_t\n",
    "    val_x = torch.cat((val_states, val_actions), -1)\n",
    "    val_y = val_next_states\n",
    "    return [train_x, train_y], [val_x, val_y]\n",
    "\n",
    "def predict_trajectory(state, action, model, action_repeat=1):\n",
    "    states = []\n",
    "    for _ in range(action_repeat):\n",
    "        if model.name == 'GP':\n",
    "            state = model(torch.cat((state, action), -1)).mean\n",
    "        else: \n",
    "            state = model(state, action)\n",
    "        states.append(state)\n",
    "    return torch.stack(states, dim=0)    "
   ]
  },
  {
   "cell_type": "markdown",
   "metadata": {
    "id": "hoDu4HfhaXXZ"
   },
   "source": [
    "Training the GP model"
   ]
  },
  {
   "cell_type": "code",
   "execution_count": 30,
   "metadata": {
    "id": "lhusHG3d61zU"
   },
   "outputs": [],
   "source": [
    "train_ratio = 0.2\n",
    "\n",
    "#prepare and split the dataset\n",
    "train_data, validation_data = GP_data_prepare(data, train_ratio=train_ratio)\n",
    "train_x, train_y = train_data\n",
    "val_x, val_y = validation_data\n",
    "\n",
    "# construct dynamics model\n",
    "output_dim = 6 #the dimension of the state variables\n",
    "likelihood = gpytorch.likelihoods.MultitaskGaussianLikelihood(num_tasks=output_dim, noise_constraint=GreaterThan(0.000001))\n",
    "\n",
    "#instantiate the model\n",
    "dynamics_gp = MultitaskGPModel(train_x, train_y, likelihood, num_tasks=output_dim)"
   ]
  },
  {
   "cell_type": "code",
   "execution_count": 31,
   "metadata": {
    "id": "2VXBPy4v6shp"
   },
   "outputs": [],
   "source": [
    "learning_rate = 0.2 # REPLACE THE THREE DOTS WITH YOUR OWN CODE\n",
    "epochs = 15 # REPLACE THE THREE DOTS WITH YOUR OWN CODE\n",
    "\n",
    "mll = gpytorch.mlls.ExactMarginalLogLikelihood(likelihood, dynamics_gp) #loss function\n",
    "optimizer = torch.optim.Adam([{'params': dynamics_gp.parameters()},], lr=learning_rate) #adam optimizer\n",
    "\n",
    "losses = np.full((epochs, 2), np.nan) #instantiate variables to store loss values"
   ]
  },
  {
   "cell_type": "code",
   "execution_count": 32,
   "metadata": {
    "colab": {
     "base_uri": "https://localhost:8080/",
     "height": 309,
     "referenced_widgets": [
      "fa55e3c00a784266bc260c9ba6a8413c",
      "8eb567a38432440f942734fcc80147db",
      "587ebdd9ed1346c3a82a2825e34b8eaa",
      "da111ec8e1f04761889918e9797237d7",
      "99a8a0f0f9fa4aecb8cea0e290fa25f1",
      "d3d7016a1c914b89a77a8dfb645b295b",
      "d3106f827c014b27916ebbf9eeeea23b",
      "86133eaae44d4eb0b8fef57603066da6",
      "b64aed1671814f6a90aeec584e5b90f9",
      "551de6271d3447eb96ac9aa85392859b",
      "031054f7d42a47e5acef24538efc80b2"
     ]
    },
    "id": "qHIQ7WTRxqa2",
    "outputId": "b5aeb053-02b7-414f-8ddf-3debc216648d"
   },
   "outputs": [
    {
     "data": {
      "application/vnd.jupyter.widget-view+json": {
       "model_id": "fa55e3c00a784266bc260c9ba6a8413c",
       "version_major": 2,
       "version_minor": 0
      },
      "text/plain": [
       "  0%|          | 0/15 [00:00<?, ?it/s]"
      ]
     },
     "metadata": {},
     "output_type": "display_data"
    },
    {
     "name": "stdout",
     "output_type": "stream",
     "text": [
      "Iter 1/15 - Loss: 1.151 - Val Los: 1.045\n",
      "Iter 2/15 - Loss: 1.064 - Val Los: 0.959\n",
      "Iter 3/15 - Loss: 0.976 - Val Los: 0.875\n",
      "Iter 4/15 - Loss: 0.889 - Val Los: 0.790\n",
      "Iter 5/15 - Loss: 0.803 - Val Los: 0.701\n",
      "Iter 6/15 - Loss: 0.716 - Val Los: 0.613\n",
      "Iter 7/15 - Loss: 0.626 - Val Los: 0.521\n",
      "Iter 8/15 - Loss: 0.534 - Val Los: 0.427\n",
      "Iter 9/15 - Loss: 0.441 - Val Los: 0.332\n",
      "Iter 10/15 - Loss: 0.346 - Val Los: 0.235\n",
      "Iter 11/15 - Loss: 0.249 - Val Los: 0.138\n",
      "Iter 12/15 - Loss: 0.151 - Val Los: 0.040\n",
      "Iter 13/15 - Loss: 0.052 - Val Los: -0.058\n",
      "Iter 14/15 - Loss: -0.045 - Val Los: -0.158\n",
      "Iter 15/15 - Loss: -0.144 - Val Los: -0.259\n"
     ]
    }
   ],
   "source": [
    "#iterate the training\n",
    "for i in trange(epochs):\n",
    "    dynamics_gp.train()\n",
    "    likelihood.train()\n",
    "    optimizer.zero_grad()\n",
    "\n",
    "    output = dynamics_gp(train_x)\n",
    "    loss = -mll(output, train_y) #compute the loss\n",
    "    loss.backward() #backprop the error\n",
    "    optimizer.step() #update the nn params\n",
    "\n",
    "    dynamics_gp.eval()\n",
    "    likelihood.eval()\n",
    "    val_out = dynamics_gp(val_x)\n",
    "    validation_loss = -mll(val_out, val_y) #compute the validation loss\n",
    "\n",
    "    losses[i] = [loss.detach().numpy(), validation_loss.detach().numpy()] #store the computed loss\n",
    "\n",
    "    print('Iter %d/%d - Loss: %.3f - Val Los: %.3f' % (i + 1, epochs, loss.item(), validation_loss.item()))"
   ]
  },
  {
   "cell_type": "code",
   "execution_count": 33,
   "metadata": {
    "colab": {
     "base_uri": "https://localhost:8080/",
     "height": 282
    },
    "id": "cvZjRAIF8HSt",
    "outputId": "c2676229-59b7-4bad-d97a-8614c6104c8e"
   },
   "outputs": [
    {
     "data": {
      "text/plain": [
       "Text(0, 0.5, 'Loss')"
      ]
     },
     "execution_count": 33,
     "metadata": {},
     "output_type": "execute_result"
    },
    {
     "data": {
      "image/png": "[encoded data removed]",
      "text/plain": [
       "<Figure size 432x288 with 1 Axes>"
      ]
     },
     "metadata": {
      "needs_background": "light"
     },
     "output_type": "display_data"
    }
   ],
   "source": [
    "# Plot the training and validation losses\n",
    "\n",
    "# Plot the true and predicted states\n",
    "plt.plot(losses[0],label='Train')\n",
    "plt.plot(losses[1],label='Validation')\n",
    "plt.ylabel('Loss')"
   ]
  },
  {
   "cell_type": "markdown",
   "metadata": {
    "id": "JaCGA-2ox39i"
   },
   "source": [
    "##3.2 Using the trained model for prediction"
   ]
  },
  {
   "cell_type": "code",
   "execution_count": 34,
   "metadata": {
    "colab": {
     "base_uri": "https://localhost:8080/"
    },
    "id": "7m-zQZdM7Epd",
    "outputId": "7685cc43-d967-43bc-b8fb-b6808ce15a19"
   },
   "outputs": [
    {
     "name": "stdout",
     "output_type": "stream",
     "text": [
      "1\n",
      "2\n",
      "3\n",
      "4\n",
      "5\n",
      "6\n",
      "7\n",
      "8\n",
      "9\n",
      "10\n",
      "11\n",
      "12\n",
      "13\n",
      "14\n",
      "15\n",
      "16\n",
      "17\n",
      "18\n",
      "19\n",
      "20\n"
     ]
    }
   ],
   "source": [
    "#run an episode with random actions for at most n time steps\n",
    "n = 20\n",
    "\n",
    "state_data_gp = []\n",
    "pred_data_gp = []\n",
    "reward_data_gp = []\n",
    "\n",
    "env.reset()\n",
    "done = False\n",
    "i=0 #iterates\n",
    "\n",
    "while (not done and i < n) :\n",
    "\n",
    "    # REPLACE THE THREE DOTS WITH YOUR OWN CODE\n",
    "    action = env.action_space.sample()\n",
    "    obs, reward, done, _, info = env.step(action)\n",
    "    state  = obs['observation'] \n",
    "\n",
    "    state = torch.Tensor(obs['observation']).unsqueeze(0) #convert the state to proper format\n",
    "    action = torch.Tensor(action).unsqueeze(0)  #convert the action to proper format\n",
    "\n",
    "    pred = predict_trajectory(state, action, dynamics_gp, action_repeat=1).detach().numpy() #GP prediction\n",
    "\n",
    "    #store the data\n",
    "    # REPLACE THE THREE DOTS WITH YOUR OWN CODE\n",
    "    state_data_gp.append(state)\n",
    "    pred_data_gp.append(pred)\n",
    "    reward_data_gp.append(reward)\n",
    "\n",
    "    i+=1\n",
    "    print(i, end=\"\\n\")\n",
    "env.close()"
   ]
  },
  {
   "cell_type": "code",
   "execution_count": 35,
   "metadata": {
    "id": "sDZXJ6T_SbI4"
   },
   "outputs": [],
   "source": [
    "x_true_gp=[]\n",
    "x_pred_gp=[]\n",
    "y_true_gp=[]\n",
    "y_pred_gp=[]\n",
    "vx_true_gp=[]\n",
    "vx_pred_gp=[]\n",
    "vy_true_gp=[]\n",
    "vy_pred_gp=[]\n",
    "cos_h_true_gp=[]\n",
    "cos_h_pred_gp=[]\n",
    "sin_h_true_gp=[]\n",
    "sin_h_pred_gp=[]\n",
    "for x in state_data_gp:\n",
    "  x_true_gp.append(x[0][0])\n",
    "  y_true_gp.append(x[0][1])\n",
    "  vx_true_gp.append(x[0][2])\n",
    "  vy_true_gp.append(x[0][3])\n",
    "  cos_h_true_gp.append(x[0][4])\n",
    "  sin_h_true_gp.append(x[0][5])\n",
    "for x in pred_data_gp:\n",
    "  x_pred_gp.append(x[0][0][0])\n",
    "  y_pred_gp.append(x[0][0][1])\n",
    "  vx_pred_gp.append(x[0][0][2])\n",
    "  vy_pred_gp.append(x[0][0][3])\n",
    "  cos_h_pred_gp.append(x[0][0][4])\n",
    "  sin_h_pred_gp.append(x[0][0][5])"
   ]
  },
  {
   "cell_type": "code",
   "execution_count": 36,
   "metadata": {
    "colab": {
     "base_uri": "https://localhost:8080/",
     "height": 433
    },
    "id": "oI5aeJkLuwlY",
    "outputId": "368121d7-c54c-42fd-c7b5-ccb2790535bc"
   },
   "outputs": [
    {
     "data": {
      "text/plain": [
       "<matplotlib.legend.Legend at 0x7f8cf26e30a0>"
      ]
     },
     "execution_count": 36,
     "metadata": {},
     "output_type": "execute_result"
    },
    {
     "data": {
      "image/png": "[encoded data removed]",
      "text/plain": [
       "<Figure size 720x720 with 6 Axes>"
      ]
     },
     "metadata": {
      "needs_background": "light"
     },
     "output_type": "display_data"
    }
   ],
   "source": [
    "# Plot the true and predicted states\n",
    "\n",
    "# Plot the true and predicted states\n",
    "# Plot the true and predicted states\n",
    "... # REPLACE THE THREE DOTS WITH YOUR OWN CODE\n",
    "# x_true=[x[0][0][0] for x in state_data_gp]\n",
    "# x_pred=[x[0][0][0] for x in pred_data_gp]\n",
    "# y_true=[x[1][0][1] for x in state_data_gp]\n",
    "# y_pred=[x[1][0][1] for x in pred_data_gp]\n",
    "# vx_true=[x[2][0][2] for x in state_data_gp]\n",
    "# vx_pred=[x[2][0][2] for x in pred_data_gp]\n",
    "# vy_true=[x[3][0][3] for x in state_data_gp]\n",
    "# vy_pred=[x[3][0][3] for x in pred_data_gp]\n",
    "# cos_h_true=[x[4][0][4] for x in state_data_gp]\n",
    "# cos_h_pred=[x[4][0][4] for x in pred_data_gp]\n",
    "# sin_h_true=[x[5][0][5] for x in state_data_gp]\n",
    "# sin_h_pred=[x[5][0][5] for x in pred_data_gp]\n",
    "plt.figure(figsize=(10,10))\n",
    "plt.subplot(331)\n",
    "plt.plot(x_true_gp,label='x_True')\n",
    "plt.plot(x_pred_gp,label='x_Pred')\n",
    "plt.title('x')\n",
    "plt.subplot(332)\n",
    "plt.plot(y_true_gp,label='y_True')\n",
    "plt.plot(y_pred_gp,label='y_Pred')\n",
    "plt.title('y')\n",
    "plt.subplot(333)\n",
    "plt.plot(vx_true_gp,label='vx_True')\n",
    "plt.plot(vx_pred_gp,label='vx_Pred')\n",
    "plt.title('vx')\n",
    "plt.subplot(334)\n",
    "plt.plot(vy_true_gp,label='vy_True')\n",
    "plt.plot(vy_pred_gp,label='vy_Pred')\n",
    "plt.title('vy')\n",
    "plt.subplot(335)\n",
    "plt.plot(cos_h_true_gp,label='cos_h_True')\n",
    "plt.plot(cos_h_pred_gp,label='cos_h_Pred')\n",
    "plt.title('cos_h')\n",
    "plt.subplot(336)\n",
    "plt.plot(sin_h_true_gp,label='sin_h_True')\n",
    "plt.plot(sin_h_pred_gp,label='sin_h_Pred')\n",
    "plt.title('sin_h')\n",
    "# plt.plot(pred_data[0:],label='Pred')\n",
    "plt.legend()\n",
    "# state_data"
   ]
  },
  {
   "cell_type": "markdown",
   "metadata": {
    "id": "nrMRIOTz2L5q"
   },
   "source": [
    "## 3.3. CEM with GP model"
   ]
  },
  {
   "cell_type": "code",
   "execution_count": 37,
   "metadata": {
    "colab": {
     "base_uri": "https://localhost:8080/"
    },
    "id": "W64w5kpP_B2P",
    "outputId": "3cbf002e-fec8-4fc8-89b5-58ae1e072ade"
   },
   "outputs": [
    {
     "name": "stdout",
     "output_type": "stream",
     "text": [
      "1\n",
      "2\n",
      "3\n",
      "4\n",
      "5\n",
      "6\n",
      "7\n",
      "8\n",
      "9\n",
      "10\n",
      "11\n",
      "12\n",
      "13\n",
      "14\n",
      "15\n",
      "16\n",
      "17\n",
      "18\n",
      "19\n",
      "20\n"
     ]
    }
   ],
   "source": [
    "#run an episode for GP\n",
    "import time\n",
    "#run an episode with random actions for at most n time steps\n",
    "n = 20 # REPLACE THE THREE DOTS WITH YOUR OWN CODE\n",
    "\n",
    "state_data = []\n",
    "reward_data = []\n",
    "gp_time = []\n",
    "\n",
    "env.reset()\n",
    "done = False\n",
    "i=0 #iterates\n",
    "\n",
    "t=0\n",
    "while not done and i < n:\n",
    "    start = time.time()\n",
    "    # REPLACE THE THREE DOTS WITH YOUR OWN CODE\n",
    "    action = env.action_space.sample() #use CEM with GP model to select actions\n",
    "    obs, reward, done, _, info = env.step(action)\n",
    "    reward_data.append(reward)\n",
    "    state = torch.Tensor(obs['observation']).unsqueeze(0) #convert the state to proper format\n",
    "    action = torch.Tensor(action).unsqueeze(0)  #convert the action to proper format\n",
    "\n",
    "    pred = predict_trajectory(state, action, dynamics_gp, action_repeat=1).detach().numpy() #GP prediction\n",
    "\n",
    "    end = time.time()\n",
    "    t+=t+end-start\n",
    "    #store the data\n",
    "    state_data.append(np.array(state).reshape(-1,))\n",
    "    \n",
    "    gp_time.append(t)\n",
    "\n",
    "    i+=1\n",
    "    print(i, end=\"\\n\")\n",
    "    \n",
    "env.close()\n",
    "gp_reward = reward_data"
   ]
  },
  {
   "cell_type": "code",
   "execution_count": 38,
   "metadata": {
    "colab": {
     "base_uri": "https://localhost:8080/",
     "height": 313
    },
    "id": "Ej70_JGV_JaZ",
    "outputId": "5fb9086c-635a-417f-a8a5-e9e7f4c48f64"
   },
   "outputs": [
    {
     "data": {
      "text/plain": [
       "Text(0.5, 1.0, 'Reward v Time')"
      ]
     },
     "execution_count": 38,
     "metadata": {},
     "output_type": "execute_result"
    },
    {
     "data": {
      "image/png": "[encoded data removed]",
      "text/plain": [
       "<Figure size 432x288 with 1 Axes>"
      ]
     },
     "metadata": {
      "needs_background": "light"
     },
     "output_type": "display_data"
    }
   ],
   "source": [
    "# Plot the rewards over time step\n",
    "plt.plot(reward_data)\n",
    "plt.xlabel('Time_step')\n",
    "plt.ylabel('Reward')\n",
    "plt.title('Reward v Time')"
   ]
  },
  {
   "cell_type": "code",
   "execution_count": 42,
   "metadata": {
    "colab": {
     "base_uri": "https://localhost:8080/",
     "height": 313
    },
    "id": "wE9MpgdAIAKx",
    "outputId": "a6174010-9165-489f-993b-a509dd6eb90e"
   },
   "outputs": [
    {
     "data": {
      "text/plain": [
       "Text(0.5, 1.0, 'Reward v Time')"
      ]
     },
     "execution_count": 42,
     "metadata": {},
     "output_type": "execute_result"
    },
    {
     "data": {
      "image/png": "[encoded data removed]",
      "text/plain": [
       "<Figure size 432x288 with 1 Axes>"
      ]
     },
     "metadata": {
      "needs_background": "light"
     },
     "output_type": "display_data"
    }
   ],
   "source": [
    "# Get the final reward (when using NN and GP with CEM)\n",
    "plt.plot(reward_data_nn,label='NN')\n",
    "plt.plot(reward_data,label='GP')\n",
    "plt.legend()\n",
    "plt.xlabel('Time_step')\n",
    "plt.ylabel('Reward')\n",
    "plt.title('Reward v Time')"
   ]
  },
  {
   "cell_type": "markdown",
   "metadata": {
    "id": "6AOGRk3dH-0w"
   },
   "source": [
    "Computing the prediction error, and computation time between NN and GP"
   ]
  },
  {
   "cell_type": "code",
   "execution_count": 40,
   "metadata": {
    "colab": {
     "base_uri": "https://localhost:8080/"
    },
    "id": "38tmfO_cIGzJ",
    "outputId": "d8cf5799-1c5f-4ff8-a534-270061bb3283"
   },
   "outputs": [
    {
     "name": "stdout",
     "output_type": "stream",
     "text": [
      "Final reward with NN = -0.2851069009607169\n",
      "Final reward with GP = -0.36579230455364486\n",
      "Prediction error with NN = 6.0884287949459726\n",
      "Prediction error with GP = 7.432226747510873\n",
      "Computational time for the CEM with NN = 0.5384657382965088 seconds\n",
      "Computational time for the CEM with GP = 82566.7962744236 seconds\n"
     ]
    }
   ],
   "source": [
    "# Compute the prediction error of NN and GP models during the planning horizon\n",
    "print(f'Final reward with NN = {reward_data_nn[-1]}')\n",
    "print(f'Final reward with GP = {reward_data_gp[-1]}')\n",
    "\n",
    "print(f'Prediction error with NN = {np.abs(sum(reward_data_nn))}')\n",
    "print(f'Prediction error with GP = {np.abs(sum(reward_data_gp))}')\n",
    "... # REPLACE THE THREE DOTS WITH YOUR OWN CODE\n",
    "\n",
    "\n",
    "# Get the computation time of running CEM with NN (from 2.4)and GP (from 3.3)\n",
    "print(f'Computational time for the CEM with NN = {nn_time[-1]} seconds')\n",
    "print(f'Computational time for the CEM with GP = {gp_time[-1]} seconds')"
   ]
  },
  {
   "cell_type": "markdown",
   "metadata": {
    "id": "_8L6vEPWyea7"
   },
   "source": [
    "##Visualize a few episodes [Optional]\n",
    "\n",
    "Here is a code to visualize a few episodes with CEM action planner.  This is optional, but might be helpful to gain insights. \n",
    "\n",
    "En voiture, Simone!"
   ]
  },
  {
   "cell_type": "code",
   "execution_count": 43,
   "metadata": {
    "id": "xOcOP7Of18T2"
   },
   "outputs": [],
   "source": [
    "display = Display(visible=0, size=(1400, 900))\n",
    "display.start()\n",
    "env = gym.make(\"parking-v0\", render_mode='rgb_array') #instantiate the parking environment \n",
    "VIDEO_PATH = './video-final' #designate the video path\n",
    "env = RecordVideo(env, video_folder=VIDEO_PATH, episode_trigger=lambda e: True )\n",
    "env.unwrapped.set_record_video_wrapper(env) #set up virtual monitor to store the video files at VIDEO_PATH dir\n",
    "num_episodes = 5\n",
    "H = 6\n",
    "K = 25\n",
    "iterations = 15\n",
    "\n",
    "#select the dynamic model \n",
    "selected_dynamic_model = dynamics_nn #we will use NN model for its fast computation\n",
    "\n",
    "for episode in trange(num_episodes):\n",
    "    obs = env.reset()[0]\n",
    "    done=False\n",
    "    while (not done):\n",
    "        action = cem_planner(torch.Tensor(obs[\"observation\"]),\n",
    "                             torch.Tensor(obs[\"desired_goal\"]),\n",
    "                             env.action_space.shape[0], selected_dynamic_model, \n",
    "                             horizon=H, population=K, iterations=iterations)\n",
    "        obs, reward, done, info = env.step(action.numpy())\n",
    "env.close()"
   ]
  },
  {
   "cell_type": "code",
   "execution_count": 44,
   "metadata": {
    "id": "cEu3RG37uwlb"
   },
   "outputs": [],
   "source": [
    "show_videos(VIDEO_PATH)"
   ]
  }
 ],
 "metadata": {
  "accelerator": "GPU",
  "colab": {
   "provenance": []
  },
  "kernelspec": {
   "display_name": "Python 3 (ipykernel)",
   "language": "python",
   "name": "python3"
  },
  "language_info": {
   "codemirror_mode": {
    "name": "ipython",
    "version": 3
   },
   "file_extension": ".py",
   "mimetype": "text/x-python",
   "name": "python",
   "nbconvert_exporter": "python",
   "pygments_lexer": "ipython3",
   "version": "3.9.12"
  },
  "pycharm": {
   "stem_cell": {
    "cell_type": "raw",
    "metadata": {
     "collapsed": false
    },
    "source": []
   }
  },
  "varInspector": {
   "cols": {
    "lenName": 16,
    "lenType": 16,
    "lenVar": 40
   },
   "kernels_config": {
    "python": {
     "delete_cmd_postfix": "",
     "delete_cmd_prefix": "del ",
     "library": "var_list.py",
     "varRefreshCmd": "print(var_dic_list())"
    },
    "r": {
     "delete_cmd_postfix": ") ",
     "delete_cmd_prefix": "rm(",
     "library": "var_list.r",
     "varRefreshCmd": "cat(var_dic_list()) "
    }
   },
   "types_to_exclude": [
    "module",
    "function",
    "builtin_function_or_method",
    "instance",
    "_Feature"
   ],
   "window_display": false
  },
  "widgets": {
   "application/vnd.jupyter.widget-state+json": {
    "01b3a724e74d4f8ea03e4bb13dc1709d": {
     "model_module": "@jupyter-widgets/controls",
     "model_module_version": "1.5.0",
     "model_name": "HBoxModel",
     "state": {
      "_dom_classes": [],
      "_model_module": "@jupyter-widgets/controls",
      "_model_module_version": "1.5.0",
      "_model_name": "HBoxModel",
      "_view_count": null,
      "_view_module": "@jupyter-widgets/controls",
      "_view_module_version": "1.5.0",
      "_view_name": "HBoxView",
      "box_style": "",
      "children": [
       "IPY_MODEL_f28b99d726a045d2bb8ac99dfa4296b4",
       "IPY_MODEL_84ca5b2109514d2fb7042ab6c0f3b45c",
       "IPY_MODEL_ef2bf2a2322647e2bc4afd3eaa4f5af2"
      ],
      "layout": "IPY_MODEL_d1bd49a31be44f3b84e5735383589b96"
     }
    },
    "02a3b5a5190544489c5f458cf2ab2ea4": {
     "model_module": "@jupyter-widgets/controls",
     "model_module_version": "1.5.0",
     "model_name": "DescriptionStyleModel",
     "state": {
      "_model_module": "@jupyter-widgets/controls",
      "_model_module_version": "1.5.0",
      "_model_name": "DescriptionStyleModel",
      "_view_count": null,
      "_view_module": "@jupyter-widgets/base",
      "_view_module_version": "1.2.0",
      "_view_name": "StyleView",
      "description_width": ""
     }
    },
    "031054f7d42a47e5acef24538efc80b2": {
     "model_module": "@jupyter-widgets/controls",
     "model_module_version": "1.5.0",
     "model_name": "DescriptionStyleModel",
     "state": {
      "_model_module": "@jupyter-widgets/controls",
      "_model_module_version": "1.5.0",
      "_model_name": "DescriptionStyleModel",
      "_view_count": null,
      "_view_module": "@jupyter-widgets/base",
      "_view_module_version": "1.2.0",
      "_view_name": "StyleView",
      "description_width": ""
     }
    },
    "1193d18ffafa49e396fbae6e65db0d21": {
     "model_module": "@jupyter-widgets/controls",
     "model_module_version": "1.5.0",
     "model_name": "DescriptionStyleModel",
     "state": {
      "_model_module": "@jupyter-widgets/controls",
      "_model_module_version": "1.5.0",
      "_model_name": "DescriptionStyleModel",
      "_view_count": null,
      "_view_module": "@jupyter-widgets/base",
      "_view_module_version": "1.2.0",
      "_view_name": "StyleView",
      "description_width": ""
     }
    },
    "1374bf490b894a8090327124eefcd121": {
     "model_module": "@jupyter-widgets/base",
     "model_module_version": "1.2.0",
     "model_name": "LayoutModel",
     "state": {
      "_model_module": "@jupyter-widgets/base",
      "_model_module_version": "1.2.0",
      "_model_name": "LayoutModel",
      "_view_count": null,
      "_view_module": "@jupyter-widgets/base",
      "_view_module_version": "1.2.0",
      "_view_name": "LayoutView",
      "align_content": null,
      "align_items": null,
      "align_self": null,
      "border": null,
      "bottom": null,
      "display": null,
      "flex": null,
      "flex_flow": null,
      "grid_area": null,
      "grid_auto_columns": null,
      "grid_auto_flow": null,
      "grid_auto_rows": null,
      "grid_column": null,
      "grid_gap": null,
      "grid_row": null,
      "grid_template_areas": null,
      "grid_template_columns": null,
      "grid_template_rows": null,
      "height": null,
      "justify_content": null,
      "justify_items": null,
      "left": null,
      "margin": null,
      "max_height": null,
      "max_width": null,
      "min_height": null,
      "min_width": null,
      "object_fit": null,
      "object_position": null,
      "order": null,
      "overflow": null,
      "overflow_x": null,
      "overflow_y": null,
      "padding": null,
      "right": null,
      "top": null,
      "visibility": null,
      "width": null
     }
    },
    "2fb45ee2311a4711916a2cbf481c1db9": {
     "model_module": "@jupyter-widgets/base",
     "model_module_version": "1.2.0",
     "model_name": "LayoutModel",
     "state": {
      "_model_module": "@jupyter-widgets/base",
      "_model_module_version": "1.2.0",
      "_model_name": "LayoutModel",
      "_view_count": null,
      "_view_module": "@jupyter-widgets/base",
      "_view_module_version": "1.2.0",
      "_view_name": "LayoutView",
      "align_content": null,
      "align_items": null,
      "align_self": null,
      "border": null,
      "bottom": null,
      "display": null,
      "flex": null,
      "flex_flow": null,
      "grid_area": null,
      "grid_auto_columns": null,
      "grid_auto_flow": null,
      "grid_auto_rows": null,
      "grid_column": null,
      "grid_gap": null,
      "grid_row": null,
      "grid_template_areas": null,
      "grid_template_columns": null,
      "grid_template_rows": null,
      "height": null,
      "justify_content": null,
      "justify_items": null,
      "left": null,
      "margin": null,
      "max_height": null,
      "max_width": null,
      "min_height": null,
      "min_width": null,
      "object_fit": null,
      "object_position": null,
      "order": null,
      "overflow": null,
      "overflow_x": null,
      "overflow_y": null,
      "padding": null,
      "right": null,
      "top": null,
      "visibility": null,
      "width": null
     }
    },
    "343530a3b0c345b99e0384352372b0d6": {
     "model_module": "@jupyter-widgets/base",
     "model_module_version": "1.2.0",
     "model_name": "LayoutModel",
     "state": {
      "_model_module": "@jupyter-widgets/base",
      "_model_module_version": "1.2.0",
      "_model_name": "LayoutModel",
      "_view_count": null,
      "_view_module": "@jupyter-widgets/base",
      "_view_module_version": "1.2.0",
      "_view_name": "LayoutView",
      "align_content": null,
      "align_items": null,
      "align_self": null,
      "border": null,
      "bottom": null,
      "display": null,
      "flex": null,
      "flex_flow": null,
      "grid_area": null,
      "grid_auto_columns": null,
      "grid_auto_flow": null,
      "grid_auto_rows": null,
      "grid_column": null,
      "grid_gap": null,
      "grid_row": null,
      "grid_template_areas": null,
      "grid_template_columns": null,
      "grid_template_rows": null,
      "height": null,
      "justify_content": null,
      "justify_items": null,
      "left": null,
      "margin": null,
      "max_height": null,
      "max_width": null,
      "min_height": null,
      "min_width": null,
      "object_fit": null,
      "object_position": null,
      "order": null,
      "overflow": null,
      "overflow_x": null,
      "overflow_y": null,
      "padding": null,
      "right": null,
      "top": null,
      "visibility": null,
      "width": null
     }
    },
    "3c2bad67d59243b6a9512411aa8f1db9": {
     "model_module": "@jupyter-widgets/controls",
     "model_module_version": "1.5.0",
     "model_name": "HTMLModel",
     "state": {
      "_dom_classes": [],
      "_model_module": "@jupyter-widgets/controls",
      "_model_module_version": "1.5.0",
      "_model_name": "HTMLModel",
      "_view_count": null,
      "_view_module": "@jupyter-widgets/controls",
      "_view_module_version": "1.5.0",
      "_view_name": "HTMLView",
      "description": "",
      "description_tooltip": null,
      "layout": "IPY_MODEL_82a1cc187e974199a35aeea0e3de7997",
      "placeholder": "​",
      "style": "IPY_MODEL_02a3b5a5190544489c5f458cf2ab2ea4",
      "value": "100%"
     }
    },
    "410582d0e993478bbb616efd9e5ffc83": {
     "model_module": "@jupyter-widgets/controls",
     "model_module_version": "1.5.0",
     "model_name": "FloatProgressModel",
     "state": {
      "_dom_classes": [],
      "_model_module": "@jupyter-widgets/controls",
      "_model_module_version": "1.5.0",
      "_model_name": "FloatProgressModel",
      "_view_count": null,
      "_view_module": "@jupyter-widgets/controls",
      "_view_module_version": "1.5.0",
      "_view_name": "ProgressView",
      "bar_style": "success",
      "description": "",
      "description_tooltip": null,
      "layout": "IPY_MODEL_ee6611dcb50446138f62cc05741e86a9",
      "max": 1000,
      "min": 0,
      "orientation": "horizontal",
      "style": "IPY_MODEL_59c068ae44b84264be777e51f4d358e8",
      "value": 1000
     }
    },
    "551de6271d3447eb96ac9aa85392859b": {
     "model_module": "@jupyter-widgets/base",
     "model_module_version": "1.2.0",
     "model_name": "LayoutModel",
     "state": {
      "_model_module": "@jupyter-widgets/base",
      "_model_module_version": "1.2.0",
      "_model_name": "LayoutModel",
      "_view_count": null,
      "_view_module": "@jupyter-widgets/base",
      "_view_module_version": "1.2.0",
      "_view_name": "LayoutView",
      "align_content": null,
      "align_items": null,
      "align_self": null,
      "border": null,
      "bottom": null,
      "display": null,
      "flex": null,
      "flex_flow": null,
      "grid_area": null,
      "grid_auto_columns": null,
      "grid_auto_flow": null,
      "grid_auto_rows": null,
      "grid_column": null,
      "grid_gap": null,
      "grid_row": null,
      "grid_template_areas": null,
      "grid_template_columns": null,
      "grid_template_rows": null,
      "height": null,
      "justify_content": null,
      "justify_items": null,
      "left": null,
      "margin": null,
      "max_height": null,
      "max_width": null,
      "min_height": null,
      "min_width": null,
      "object_fit": null,
      "object_position": null,
      "order": null,
      "overflow": null,
      "overflow_x": null,
      "overflow_y": null,
      "padding": null,
      "right": null,
      "top": null,
      "visibility": null,
      "width": null
     }
    },
    "587ebdd9ed1346c3a82a2825e34b8eaa": {
     "model_module": "@jupyter-widgets/controls",
     "model_module_version": "1.5.0",
     "model_name": "FloatProgressModel",
     "state": {
      "_dom_classes": [],
      "_model_module": "@jupyter-widgets/controls",
      "_model_module_version": "1.5.0",
      "_model_name": "FloatProgressModel",
      "_view_count": null,
      "_view_module": "@jupyter-widgets/controls",
      "_view_module_version": "1.5.0",
      "_view_name": "ProgressView",
      "bar_style": "success",
      "description": "",
      "description_tooltip": null,
      "layout": "IPY_MODEL_86133eaae44d4eb0b8fef57603066da6",
      "max": 15,
      "min": 0,
      "orientation": "horizontal",
      "style": "IPY_MODEL_b64aed1671814f6a90aeec584e5b90f9",
      "value": 15
     }
    },
    "59c068ae44b84264be777e51f4d358e8": {
     "model_module": "@jupyter-widgets/controls",
     "model_module_version": "1.5.0",
     "model_name": "ProgressStyleModel",
     "state": {
      "_model_module": "@jupyter-widgets/controls",
      "_model_module_version": "1.5.0",
      "_model_name": "ProgressStyleModel",
      "_view_count": null,
      "_view_module": "@jupyter-widgets/base",
      "_view_module_version": "1.2.0",
      "_view_name": "StyleView",
      "bar_color": null,
      "description_width": ""
     }
    },
    "72f7b1d5fcf642069d42e0e7c489c8aa": {
     "model_module": "@jupyter-widgets/controls",
     "model_module_version": "1.5.0",
     "model_name": "HTMLModel",
     "state": {
      "_dom_classes": [],
      "_model_module": "@jupyter-widgets/controls",
      "_model_module_version": "1.5.0",
      "_model_name": "HTMLModel",
      "_view_count": null,
      "_view_module": "@jupyter-widgets/controls",
      "_view_module_version": "1.5.0",
      "_view_name": "HTMLView",
      "description": "",
      "description_tooltip": null,
      "layout": "IPY_MODEL_343530a3b0c345b99e0384352372b0d6",
      "placeholder": "​",
      "style": "IPY_MODEL_cf46645e854a4ad9af23598167b3701d",
      "value": " 1000/1000 [00:02&lt;00:00, 506.71it/s]"
     }
    },
    "75485be3918f4a89b93cc1a22b94a14b": {
     "model_module": "@jupyter-widgets/base",
     "model_module_version": "1.2.0",
     "model_name": "LayoutModel",
     "state": {
      "_model_module": "@jupyter-widgets/base",
      "_model_module_version": "1.2.0",
      "_model_name": "LayoutModel",
      "_view_count": null,
      "_view_module": "@jupyter-widgets/base",
      "_view_module_version": "1.2.0",
      "_view_name": "LayoutView",
      "align_content": null,
      "align_items": null,
      "align_self": null,
      "border": null,
      "bottom": null,
      "display": null,
      "flex": null,
      "flex_flow": null,
      "grid_area": null,
      "grid_auto_columns": null,
      "grid_auto_flow": null,
      "grid_auto_rows": null,
      "grid_column": null,
      "grid_gap": null,
      "grid_row": null,
      "grid_template_areas": null,
      "grid_template_columns": null,
      "grid_template_rows": null,
      "height": null,
      "justify_content": null,
      "justify_items": null,
      "left": null,
      "margin": null,
      "max_height": null,
      "max_width": null,
      "min_height": null,
      "min_width": null,
      "object_fit": null,
      "object_position": null,
      "order": null,
      "overflow": null,
      "overflow_x": null,
      "overflow_y": null,
      "padding": null,
      "right": null,
      "top": null,
      "visibility": null,
      "width": null
     }
    },
    "82a1cc187e974199a35aeea0e3de7997": {
     "model_module": "@jupyter-widgets/base",
     "model_module_version": "1.2.0",
     "model_name": "LayoutModel",
     "state": {
      "_model_module": "@jupyter-widgets/base",
      "_model_module_version": "1.2.0",
      "_model_name": "LayoutModel",
      "_view_count": null,
      "_view_module": "@jupyter-widgets/base",
      "_view_module_version": "1.2.0",
      "_view_name": "LayoutView",
      "align_content": null,
      "align_items": null,
      "align_self": null,
      "border": null,
      "bottom": null,
      "display": null,
      "flex": null,
      "flex_flow": null,
      "grid_area": null,
      "grid_auto_columns": null,
      "grid_auto_flow": null,
      "grid_auto_rows": null,
      "grid_column": null,
      "grid_gap": null,
      "grid_row": null,
      "grid_template_areas": null,
      "grid_template_columns": null,
      "grid_template_rows": null,
      "height": null,
      "justify_content": null,
      "justify_items": null,
      "left": null,
      "margin": null,
      "max_height": null,
      "max_width": null,
      "min_height": null,
      "min_width": null,
      "object_fit": null,
      "object_position": null,
      "order": null,
      "overflow": null,
      "overflow_x": null,
      "overflow_y": null,
      "padding": null,
      "right": null,
      "top": null,
      "visibility": null,
      "width": null
     }
    },
    "84ca5b2109514d2fb7042ab6c0f3b45c": {
     "model_module": "@jupyter-widgets/controls",
     "model_module_version": "1.5.0",
     "model_name": "FloatProgressModel",
     "state": {
      "_dom_classes": [],
      "_model_module": "@jupyter-widgets/controls",
      "_model_module_version": "1.5.0",
      "_model_name": "FloatProgressModel",
      "_view_count": null,
      "_view_module": "@jupyter-widgets/controls",
      "_view_module_version": "1.5.0",
      "_view_name": "ProgressView",
      "bar_style": "success",
      "description": "",
      "description_tooltip": null,
      "layout": "IPY_MODEL_75485be3918f4a89b93cc1a22b94a14b",
      "max": 2000,
      "min": 0,
      "orientation": "horizontal",
      "style": "IPY_MODEL_c1614d9f809d4c808dff5a1d0a3a6471",
      "value": 2000
     }
    },
    "86133eaae44d4eb0b8fef57603066da6": {
     "model_module": "@jupyter-widgets/base",
     "model_module_version": "1.2.0",
     "model_name": "LayoutModel",
     "state": {
      "_model_module": "@jupyter-widgets/base",
      "_model_module_version": "1.2.0",
      "_model_name": "LayoutModel",
      "_view_count": null,
      "_view_module": "@jupyter-widgets/base",
      "_view_module_version": "1.2.0",
      "_view_name": "LayoutView",
      "align_content": null,
      "align_items": null,
      "align_self": null,
      "border": null,
      "bottom": null,
      "display": null,
      "flex": null,
      "flex_flow": null,
      "grid_area": null,
      "grid_auto_columns": null,
      "grid_auto_flow": null,
      "grid_auto_rows": null,
      "grid_column": null,
      "grid_gap": null,
      "grid_row": null,
      "grid_template_areas": null,
      "grid_template_columns": null,
      "grid_template_rows": null,
      "height": null,
      "justify_content": null,
      "justify_items": null,
      "left": null,
      "margin": null,
      "max_height": null,
      "max_width": null,
      "min_height": null,
      "min_width": null,
      "object_fit": null,
      "object_position": null,
      "order": null,
      "overflow": null,
      "overflow_x": null,
      "overflow_y": null,
      "padding": null,
      "right": null,
      "top": null,
      "visibility": null,
      "width": null
     }
    },
    "8eb567a38432440f942734fcc80147db": {
     "model_module": "@jupyter-widgets/controls",
     "model_module_version": "1.5.0",
     "model_name": "HTMLModel",
     "state": {
      "_dom_classes": [],
      "_model_module": "@jupyter-widgets/controls",
      "_model_module_version": "1.5.0",
      "_model_name": "HTMLModel",
      "_view_count": null,
      "_view_module": "@jupyter-widgets/controls",
      "_view_module_version": "1.5.0",
      "_view_name": "HTMLView",
      "description": "",
      "description_tooltip": null,
      "layout": "IPY_MODEL_d3d7016a1c914b89a77a8dfb645b295b",
      "placeholder": "​",
      "style": "IPY_MODEL_d3106f827c014b27916ebbf9eeeea23b",
      "value": "100%"
     }
    },
    "99a8a0f0f9fa4aecb8cea0e290fa25f1": {
     "model_module": "@jupyter-widgets/base",
     "model_module_version": "1.2.0",
     "model_name": "LayoutModel",
     "state": {
      "_model_module": "@jupyter-widgets/base",
      "_model_module_version": "1.2.0",
      "_model_name": "LayoutModel",
      "_view_count": null,
      "_view_module": "@jupyter-widgets/base",
      "_view_module_version": "1.2.0",
      "_view_name": "LayoutView",
      "align_content": null,
      "align_items": null,
      "align_self": null,
      "border": null,
      "bottom": null,
      "display": null,
      "flex": null,
      "flex_flow": null,
      "grid_area": null,
      "grid_auto_columns": null,
      "grid_auto_flow": null,
      "grid_auto_rows": null,
      "grid_column": null,
      "grid_gap": null,
      "grid_row": null,
      "grid_template_areas": null,
      "grid_template_columns": null,
      "grid_template_rows": null,
      "height": null,
      "justify_content": null,
      "justify_items": null,
      "left": null,
      "margin": null,
      "max_height": null,
      "max_width": null,
      "min_height": null,
      "min_width": null,
      "object_fit": null,
      "object_position": null,
      "order": null,
      "overflow": null,
      "overflow_x": null,
      "overflow_y": null,
      "padding": null,
      "right": null,
      "top": null,
      "visibility": null,
      "width": null
     }
    },
    "b3efb7f6d0784372a48ff2c1d3e656d3": {
     "model_module": "@jupyter-widgets/base",
     "model_module_version": "1.2.0",
     "model_name": "LayoutModel",
     "state": {
      "_model_module": "@jupyter-widgets/base",
      "_model_module_version": "1.2.0",
      "_model_name": "LayoutModel",
      "_view_count": null,
      "_view_module": "@jupyter-widgets/base",
      "_view_module_version": "1.2.0",
      "_view_name": "LayoutView",
      "align_content": null,
      "align_items": null,
      "align_self": null,
      "border": null,
      "bottom": null,
      "display": null,
      "flex": null,
      "flex_flow": null,
      "grid_area": null,
      "grid_auto_columns": null,
      "grid_auto_flow": null,
      "grid_auto_rows": null,
      "grid_column": null,
      "grid_gap": null,
      "grid_row": null,
      "grid_template_areas": null,
      "grid_template_columns": null,
      "grid_template_rows": null,
      "height": null,
      "justify_content": null,
      "justify_items": null,
      "left": null,
      "margin": null,
      "max_height": null,
      "max_width": null,
      "min_height": null,
      "min_width": null,
      "object_fit": null,
      "object_position": null,
      "order": null,
      "overflow": null,
      "overflow_x": null,
      "overflow_y": null,
      "padding": null,
      "right": null,
      "top": null,
      "visibility": null,
      "width": null
     }
    },
    "b64aed1671814f6a90aeec584e5b90f9": {
     "model_module": "@jupyter-widgets/controls",
     "model_module_version": "1.5.0",
     "model_name": "ProgressStyleModel",
     "state": {
      "_model_module": "@jupyter-widgets/controls",
      "_model_module_version": "1.5.0",
      "_model_name": "ProgressStyleModel",
      "_view_count": null,
      "_view_module": "@jupyter-widgets/base",
      "_view_module_version": "1.2.0",
      "_view_name": "StyleView",
      "bar_color": null,
      "description_width": ""
     }
    },
    "c1614d9f809d4c808dff5a1d0a3a6471": {
     "model_module": "@jupyter-widgets/controls",
     "model_module_version": "1.5.0",
     "model_name": "ProgressStyleModel",
     "state": {
      "_model_module": "@jupyter-widgets/controls",
      "_model_module_version": "1.5.0",
      "_model_name": "ProgressStyleModel",
      "_view_count": null,
      "_view_module": "@jupyter-widgets/base",
      "_view_module_version": "1.2.0",
      "_view_name": "StyleView",
      "bar_color": null,
      "description_width": ""
     }
    },
    "cf46645e854a4ad9af23598167b3701d": {
     "model_module": "@jupyter-widgets/controls",
     "model_module_version": "1.5.0",
     "model_name": "DescriptionStyleModel",
     "state": {
      "_model_module": "@jupyter-widgets/controls",
      "_model_module_version": "1.5.0",
      "_model_name": "DescriptionStyleModel",
      "_view_count": null,
      "_view_module": "@jupyter-widgets/base",
      "_view_module_version": "1.2.0",
      "_view_name": "StyleView",
      "description_width": ""
     }
    },
    "d1bd49a31be44f3b84e5735383589b96": {
     "model_module": "@jupyter-widgets/base",
     "model_module_version": "1.2.0",
     "model_name": "LayoutModel",
     "state": {
      "_model_module": "@jupyter-widgets/base",
      "_model_module_version": "1.2.0",
      "_model_name": "LayoutModel",
      "_view_count": null,
      "_view_module": "@jupyter-widgets/base",
      "_view_module_version": "1.2.0",
      "_view_name": "LayoutView",
      "align_content": null,
      "align_items": null,
      "align_self": null,
      "border": null,
      "bottom": null,
      "display": null,
      "flex": null,
      "flex_flow": null,
      "grid_area": null,
      "grid_auto_columns": null,
      "grid_auto_flow": null,
      "grid_auto_rows": null,
      "grid_column": null,
      "grid_gap": null,
      "grid_row": null,
      "grid_template_areas": null,
      "grid_template_columns": null,
      "grid_template_rows": null,
      "height": null,
      "justify_content": null,
      "justify_items": null,
      "left": null,
      "margin": null,
      "max_height": null,
      "max_width": null,
      "min_height": null,
      "min_width": null,
      "object_fit": null,
      "object_position": null,
      "order": null,
      "overflow": null,
      "overflow_x": null,
      "overflow_y": null,
      "padding": null,
      "right": null,
      "top": null,
      "visibility": null,
      "width": null
     }
    },
    "d3106f827c014b27916ebbf9eeeea23b": {
     "model_module": "@jupyter-widgets/controls",
     "model_module_version": "1.5.0",
     "model_name": "DescriptionStyleModel",
     "state": {
      "_model_module": "@jupyter-widgets/controls",
      "_model_module_version": "1.5.0",
      "_model_name": "DescriptionStyleModel",
      "_view_count": null,
      "_view_module": "@jupyter-widgets/base",
      "_view_module_version": "1.2.0",
      "_view_name": "StyleView",
      "description_width": ""
     }
    },
    "d3d7016a1c914b89a77a8dfb645b295b": {
     "model_module": "@jupyter-widgets/base",
     "model_module_version": "1.2.0",
     "model_name": "LayoutModel",
     "state": {
      "_model_module": "@jupyter-widgets/base",
      "_model_module_version": "1.2.0",
      "_model_name": "LayoutModel",
      "_view_count": null,
      "_view_module": "@jupyter-widgets/base",
      "_view_module_version": "1.2.0",
      "_view_name": "LayoutView",
      "align_content": null,
      "align_items": null,
      "align_self": null,
      "border": null,
      "bottom": null,
      "display": null,
      "flex": null,
      "flex_flow": null,
      "grid_area": null,
      "grid_auto_columns": null,
      "grid_auto_flow": null,
      "grid_auto_rows": null,
      "grid_column": null,
      "grid_gap": null,
      "grid_row": null,
      "grid_template_areas": null,
      "grid_template_columns": null,
      "grid_template_rows": null,
      "height": null,
      "justify_content": null,
      "justify_items": null,
      "left": null,
      "margin": null,
      "max_height": null,
      "max_width": null,
      "min_height": null,
      "min_width": null,
      "object_fit": null,
      "object_position": null,
      "order": null,
      "overflow": null,
      "overflow_x": null,
      "overflow_y": null,
      "padding": null,
      "right": null,
      "top": null,
      "visibility": null,
      "width": null
     }
    },
    "d45e8a96d93e445d8e21454441a3af59": {
     "model_module": "@jupyter-widgets/controls",
     "model_module_version": "1.5.0",
     "model_name": "DescriptionStyleModel",
     "state": {
      "_model_module": "@jupyter-widgets/controls",
      "_model_module_version": "1.5.0",
      "_model_name": "DescriptionStyleModel",
      "_view_count": null,
      "_view_module": "@jupyter-widgets/base",
      "_view_module_version": "1.2.0",
      "_view_name": "StyleView",
      "description_width": ""
     }
    },
    "d9fd88164df149c08a20ef1d14ae70f0": {
     "model_module": "@jupyter-widgets/controls",
     "model_module_version": "1.5.0",
     "model_name": "HBoxModel",
     "state": {
      "_dom_classes": [],
      "_model_module": "@jupyter-widgets/controls",
      "_model_module_version": "1.5.0",
      "_model_name": "HBoxModel",
      "_view_count": null,
      "_view_module": "@jupyter-widgets/controls",
      "_view_module_version": "1.5.0",
      "_view_name": "HBoxView",
      "box_style": "",
      "children": [
       "IPY_MODEL_3c2bad67d59243b6a9512411aa8f1db9",
       "IPY_MODEL_410582d0e993478bbb616efd9e5ffc83",
       "IPY_MODEL_72f7b1d5fcf642069d42e0e7c489c8aa"
      ],
      "layout": "IPY_MODEL_1374bf490b894a8090327124eefcd121"
     }
    },
    "da111ec8e1f04761889918e9797237d7": {
     "model_module": "@jupyter-widgets/controls",
     "model_module_version": "1.5.0",
     "model_name": "HTMLModel",
     "state": {
      "_dom_classes": [],
      "_model_module": "@jupyter-widgets/controls",
      "_model_module_version": "1.5.0",
      "_model_name": "HTMLModel",
      "_view_count": null,
      "_view_module": "@jupyter-widgets/controls",
      "_view_module_version": "1.5.0",
      "_view_name": "HTMLView",
      "description": "",
      "description_tooltip": null,
      "layout": "IPY_MODEL_551de6271d3447eb96ac9aa85392859b",
      "placeholder": "​",
      "style": "IPY_MODEL_031054f7d42a47e5acef24538efc80b2",
      "value": " 15/15 [04:47&lt;00:00, 18.82s/it]"
     }
    },
    "ee6611dcb50446138f62cc05741e86a9": {
     "model_module": "@jupyter-widgets/base",
     "model_module_version": "1.2.0",
     "model_name": "LayoutModel",
     "state": {
      "_model_module": "@jupyter-widgets/base",
      "_model_module_version": "1.2.0",
      "_model_name": "LayoutModel",
      "_view_count": null,
      "_view_module": "@jupyter-widgets/base",
      "_view_module_version": "1.2.0",
      "_view_name": "LayoutView",
      "align_content": null,
      "align_items": null,
      "align_self": null,
      "border": null,
      "bottom": null,
      "display": null,
      "flex": null,
      "flex_flow": null,
      "grid_area": null,
      "grid_auto_columns": null,
      "grid_auto_flow": null,
      "grid_auto_rows": null,
      "grid_column": null,
      "grid_gap": null,
      "grid_row": null,
      "grid_template_areas": null,
      "grid_template_columns": null,
      "grid_template_rows": null,
      "height": null,
      "justify_content": null,
      "justify_items": null,
      "left": null,
      "margin": null,
      "max_height": null,
      "max_width": null,
      "min_height": null,
      "min_width": null,
      "object_fit": null,
      "object_position": null,
      "order": null,
      "overflow": null,
      "overflow_x": null,
      "overflow_y": null,
      "padding": null,
      "right": null,
      "top": null,
      "visibility": null,
      "width": null
     }
    },
    "ef2bf2a2322647e2bc4afd3eaa4f5af2": {
     "model_module": "@jupyter-widgets/controls",
     "model_module_version": "1.5.0",
     "model_name": "HTMLModel",
     "state": {
      "_dom_classes": [],
      "_model_module": "@jupyter-widgets/controls",
      "_model_module_version": "1.5.0",
      "_model_name": "HTMLModel",
      "_view_count": null,
      "_view_module": "@jupyter-widgets/controls",
      "_view_module_version": "1.5.0",
      "_view_name": "HTMLView",
      "description": "",
      "description_tooltip": null,
      "layout": "IPY_MODEL_b3efb7f6d0784372a48ff2c1d3e656d3",
      "placeholder": "​",
      "style": "IPY_MODEL_d45e8a96d93e445d8e21454441a3af59",
      "value": " 2000/2000 [00:44&lt;00:00, 63.15it/s]"
     }
    },
    "f28b99d726a045d2bb8ac99dfa4296b4": {
     "model_module": "@jupyter-widgets/controls",
     "model_module_version": "1.5.0",
     "model_name": "HTMLModel",
     "state": {
      "_dom_classes": [],
      "_model_module": "@jupyter-widgets/controls",
      "_model_module_version": "1.5.0",
      "_model_name": "HTMLModel",
      "_view_count": null,
      "_view_module": "@jupyter-widgets/controls",
      "_view_module_version": "1.5.0",
      "_view_name": "HTMLView",
      "description": "",
      "description_tooltip": null,
      "layout": "IPY_MODEL_2fb45ee2311a4711916a2cbf481c1db9",
      "placeholder": "​",
      "style": "IPY_MODEL_1193d18ffafa49e396fbae6e65db0d21",
      "value": "100%"
     }
    },
    "fa55e3c00a784266bc260c9ba6a8413c": {
     "model_module": "@jupyter-widgets/controls",
     "model_module_version": "1.5.0",
     "model_name": "HBoxModel",
     "state": {
      "_dom_classes": [],
      "_model_module": "@jupyter-widgets/controls",
      "_model_module_version": "1.5.0",
      "_model_name": "HBoxModel",
      "_view_count": null,
      "_view_module": "@jupyter-widgets/controls",
      "_view_module_version": "1.5.0",
      "_view_name": "HBoxView",
      "box_style": "",
      "children": [
       "IPY_MODEL_8eb567a38432440f942734fcc80147db",
       "IPY_MODEL_587ebdd9ed1346c3a82a2825e34b8eaa",
       "IPY_MODEL_da111ec8e1f04761889918e9797237d7"
      ],
      "layout": "IPY_MODEL_99a8a0f0f9fa4aecb8cea0e290fa25f1"
     }
    }
   }
  }
 },
 "nbformat": 4,
 "nbformat_minor": 1
}
